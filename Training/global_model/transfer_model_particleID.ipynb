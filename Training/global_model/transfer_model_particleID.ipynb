{
 "cells": [
  {
   "cell_type": "code",
   "execution_count": 18,
   "id": "2ab37475",
   "metadata": {},
   "outputs": [
    {
     "name": "stdout",
     "output_type": "stream",
     "text": [
      "The autoreload extension is already loaded. To reload it, use:\n",
      "  %reload_ext autoreload\n"
     ]
    }
   ],
   "source": [
    "import awk_data\n",
    "import tensorflow as tf\n",
    "import argparse \n",
    "from collections import defaultdict\n",
    "import os, json\n",
    "import importlib.util\n",
    "from time import time\n",
    "import numpy as np\n",
    "import plot_loss\n",
    "\n",
    "%load_ext autoreload\n",
    "%autoreload 2"
   ]
  },
  {
   "cell_type": "code",
   "execution_count": 19,
   "id": "fdc062d1",
   "metadata": {},
   "outputs": [],
   "source": [
    "baseModelDatapath = \"/eos/user/d/dvalsecc/www/ECAL/Clustering/DeepCluster/models_archive/gcn_models/ACAT2022/best_models_archive/tests_simpler_rechits/run_20_datasetv10_verysmall_nconv3/\""
   ]
  },
  {
   "cell_type": "code",
   "execution_count": 20,
   "id": "75ac728f",
   "metadata": {},
   "outputs": [],
   "source": [
    "config = json.load(open(\"training_config.json\"))"
   ]
  },
  {
   "cell_type": "code",
   "execution_count": 21,
   "id": "15f9922b",
   "metadata": {},
   "outputs": [
    {
     "name": "stdout",
     "output_type": "stream",
     "text": [
      ">>> Loading datasets\n"
     ]
    }
   ],
   "source": [
    "## Loading the datasets\n",
    "print(\">>> Loading datasets\")\n",
    "\n",
    "train_ds = awk_data.load_dataset(awk_data.LoaderConfig(**config[\"dataset_conf\"][\"training\"]))\n",
    "test_ds = awk_data.load_dataset(awk_data.LoaderConfig(**config[\"dataset_conf\"][\"validation\"]))\n",
    "# Create training and validation\n",
    "ds_train = train_ds.prefetch(tf.data.AUTOTUNE).repeat(config['nepochs'])\n",
    "ds_test  = test_ds.prefetch(tf.data.AUTOTUNE).repeat(config['nepochs'])"
   ]
  },
  {
   "cell_type": "code",
   "execution_count": 22,
   "id": "d1322219",
   "metadata": {},
   "outputs": [],
   "source": [
    "############### \n",
    "# Loading the model file\n",
    " # Load model modules\n",
    "spec = importlib.util.spec_from_file_location(\"model\", \"model_simpler_rechits.py\")\n",
    "model_lib = importlib.util.module_from_spec(spec)\n",
    "spec.loader.exec_module(model_lib)"
   ]
  },
  {
   "cell_type": "code",
   "execution_count": 23,
   "id": "1272d92a",
   "metadata": {},
   "outputs": [],
   "source": [
    "# Build the model with all the configs\n",
    "model = model_lib.DeepClusterGN(**config)\n",
    "opt = tf.keras.optimizers.Adam(learning_rate=config['lr'])\n",
    "model.compile(optimizer=opt)\n",
    "model.set_metrics()"
   ]
  },
  {
   "cell_type": "code",
   "execution_count": null,
   "id": "01711517",
   "metadata": {},
   "outputs": [],
   "source": [
    "for X, y, w  in ds_train:\n",
    "    # Load the model\n",
    "    ypred = model(X, training=False)\n",
    "    #l = custom_loss(y, ypred)\n",
    "    break"
   ]
  },
  {
   "cell_type": "code",
   "execution_count": null,
   "id": "51352639",
   "metadata": {},
   "outputs": [],
   "source": []
  },
  {
   "cell_type": "code",
   "execution_count": null,
   "id": "d95e1e6f",
   "metadata": {},
   "outputs": [],
   "source": []
  },
  {
   "cell_type": "code",
   "execution_count": null,
   "id": "c201b391",
   "metadata": {},
   "outputs": [],
   "source": []
  }
 ],
 "metadata": {
  "kernelspec": {
   "display_name": "Python 3",
   "language": "python",
   "name": "python3"
  },
  "language_info": {
   "codemirror_mode": {
    "name": "ipython",
    "version": 3
   },
   "file_extension": ".py",
   "mimetype": "text/x-python",
   "name": "python",
   "nbconvert_exporter": "python",
   "pygments_lexer": "ipython3",
   "version": "3.9.12"
  }
 },
 "nbformat": 4,
 "nbformat_minor": 5
}
