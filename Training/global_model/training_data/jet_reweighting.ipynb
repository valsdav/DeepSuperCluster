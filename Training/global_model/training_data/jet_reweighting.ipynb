{
 "cells": [
  {
   "cell_type": "code",
   "execution_count": 1,
   "id": "0023230c",
   "metadata": {},
   "outputs": [],
   "source": [
    "import pandas as pd\n",
    "import matplotlib.pyplot as plt\n",
    "from tqdm import tqdm\n",
    "import tensorflow as tf\n",
    "\n",
    "plt.rcParams['figure.figsize'] = (5,5)\n",
    "plt.rcParams['figure.dpi'] = 150"
   ]
  },
  {
   "cell_type": "code",
   "execution_count": 2,
   "id": "ad9ccd6e",
   "metadata": {},
   "outputs": [
    {
     "name": "stderr",
     "output_type": "stream",
     "text": [
      "/cvmfs/sft.cern.ch/lcg/views/LCG_100cuda/x86_64-centos7-gcc8-opt/lib/python3.7/site-packages/numpy/lib/arraysetops.py:569: FutureWarning: elementwise comparison failed; returning scalar instead, but in the future will perform elementwise comparison\n",
      "  mask |= (ar1 == a)\n"
     ]
    }
   ],
   "source": [
    "df_gamma = pd.read_csv('gamma_200.csv', index_col=(0,1))\n",
    "df_jet = pd.read_csv('jet_200.csv', index_col=(0,1))\n",
    "df_ele = pd.read_csv('ele_200.csv', index_col=(0,1))"
   ]
  },
  {
   "cell_type": "code",
   "execution_count": 3,
   "id": "571d41eb",
   "metadata": {},
   "outputs": [],
   "source": [
    "df_jet = df_jet[['et_cluster', 'in_sc', 'parton_pdg', 'parton_pt']]\n",
    "df_gamma = df_gamma[['et_cluster', 'in_sc']]\n",
    "df_ele = df_ele[['et_cluster', 'in_sc']]"
   ]
  },
  {
   "cell_type": "code",
   "execution_count": 4,
   "id": "4feaf542",
   "metadata": {},
   "outputs": [],
   "source": [
    "df_jet = df_jet[(df_jet['parton_pdg']!=6) & (df_jet['parton_pdg']!=-6)]"
   ]
  },
  {
   "cell_type": "code",
   "execution_count": 5,
   "id": "00c38954",
   "metadata": {},
   "outputs": [],
   "source": [
    "low_energy = df_jet[df_jet['parton_pt'] < 100]\n",
    "high_energy = df_jet[df_jet['parton_pt'] >= 100]"
   ]
  },
  {
   "cell_type": "code",
   "execution_count": 6,
   "id": "31d59af0",
   "metadata": {},
   "outputs": [
    {
     "data": {
      "text/plain": [
       "(array([ 67445.,  49162.,  45373.,  61188.,      0.,      0.,      0.,\n",
       "             0.,      0., 322882.]),\n",
       " array([-5. , -2.4,  0.2,  2.8,  5.4,  8. , 10.6, 13.2, 15.8, 18.4, 21. ]),\n",
       " [<matplotlib.patches.Polygon at 0x7f961b34f750>])"
      ]
     },
     "execution_count": 6,
     "metadata": {},
     "output_type": "execute_result"
    },
    {
     "data": {
      "image/png": "[encoded data removed]",
      "text/plain": [
       "<Figure size 432x288 with 1 Axes>"
      ]
     },
     "metadata": {
      "needs_background": "light"
     },
     "output_type": "display_data"
    }
   ],
   "source": [
    "plt.hist(low_energy['parton_pdg'], histtype='step')\n",
    "plt.hist(high_energy['parton_pdg'], histtype='step')"
   ]
  },
  {
   "cell_type": "code",
   "execution_count": 7,
   "id": "d1eda7bd",
   "metadata": {},
   "outputs": [
    {
     "data": {
      "text/html": [
       "<div>\n",
       "<style scoped>\n",
       "    .dataframe tbody tr th:only-of-type {\n",
       "        vertical-align: middle;\n",
       "    }\n",
       "\n",
       "    .dataframe tbody tr th {\n",
       "        vertical-align: top;\n",
       "    }\n",
       "\n",
       "    .dataframe thead th {\n",
       "        text-align: right;\n",
       "    }\n",
       "</style>\n",
       "<table border=\"1\" class=\"dataframe\">\n",
       "  <thead>\n",
       "    <tr style=\"text-align: right;\">\n",
       "      <th></th>\n",
       "      <th></th>\n",
       "      <th>et_cluster</th>\n",
       "      <th>in_sc</th>\n",
       "      <th>parton_pdg</th>\n",
       "      <th>parton_pt</th>\n",
       "    </tr>\n",
       "  </thead>\n",
       "  <tbody>\n",
       "    <tr>\n",
       "      <th rowspan=\"3\" valign=\"top\">19997</th>\n",
       "      <th>0</th>\n",
       "      <td>27.083754</td>\n",
       "      <td>1</td>\n",
       "      <td>21.0</td>\n",
       "      <td>95.50985</td>\n",
       "    </tr>\n",
       "    <tr>\n",
       "      <th>1</th>\n",
       "      <td>1.187545</td>\n",
       "      <td>1</td>\n",
       "      <td>21.0</td>\n",
       "      <td>95.50985</td>\n",
       "    </tr>\n",
       "    <tr>\n",
       "      <th>2</th>\n",
       "      <td>0.326307</td>\n",
       "      <td>0</td>\n",
       "      <td>21.0</td>\n",
       "      <td>95.50985</td>\n",
       "    </tr>\n",
       "    <tr>\n",
       "      <th rowspan=\"2\" valign=\"top\">19999</th>\n",
       "      <th>0</th>\n",
       "      <td>0.904349</td>\n",
       "      <td>1</td>\n",
       "      <td>21.0</td>\n",
       "      <td>95.50985</td>\n",
       "    </tr>\n",
       "    <tr>\n",
       "      <th>1</th>\n",
       "      <td>0.275086</td>\n",
       "      <td>0</td>\n",
       "      <td>21.0</td>\n",
       "      <td>95.50985</td>\n",
       "    </tr>\n",
       "    <tr>\n",
       "      <th>...</th>\n",
       "      <th>...</th>\n",
       "      <td>...</td>\n",
       "      <td>...</td>\n",
       "      <td>...</td>\n",
       "      <td>...</td>\n",
       "    </tr>\n",
       "    <tr>\n",
       "      <th rowspan=\"5\" valign=\"top\">197650</th>\n",
       "      <th>5</th>\n",
       "      <td>0.400626</td>\n",
       "      <td>0</td>\n",
       "      <td>21.0</td>\n",
       "      <td>60.79492</td>\n",
       "    </tr>\n",
       "    <tr>\n",
       "      <th>6</th>\n",
       "      <td>0.335333</td>\n",
       "      <td>0</td>\n",
       "      <td>21.0</td>\n",
       "      <td>60.79492</td>\n",
       "    </tr>\n",
       "    <tr>\n",
       "      <th>7</th>\n",
       "      <td>0.247374</td>\n",
       "      <td>0</td>\n",
       "      <td>21.0</td>\n",
       "      <td>60.79492</td>\n",
       "    </tr>\n",
       "    <tr>\n",
       "      <th>8</th>\n",
       "      <td>0.238862</td>\n",
       "      <td>1</td>\n",
       "      <td>21.0</td>\n",
       "      <td>60.79492</td>\n",
       "    </tr>\n",
       "    <tr>\n",
       "      <th>9</th>\n",
       "      <td>0.189142</td>\n",
       "      <td>0</td>\n",
       "      <td>21.0</td>\n",
       "      <td>60.79492</td>\n",
       "    </tr>\n",
       "  </tbody>\n",
       "</table>\n",
       "<p>608983 rows × 4 columns</p>\n",
       "</div>"
      ],
      "text/plain": [
       "          et_cluster  in_sc  parton_pdg  parton_pt\n",
       "19997  0   27.083754      1        21.0   95.50985\n",
       "       1    1.187545      1        21.0   95.50985\n",
       "       2    0.326307      0        21.0   95.50985\n",
       "19999  0    0.904349      1        21.0   95.50985\n",
       "       1    0.275086      0        21.0   95.50985\n",
       "...              ...    ...         ...        ...\n",
       "197650 5    0.400626      0        21.0   60.79492\n",
       "       6    0.335333      0        21.0   60.79492\n",
       "       7    0.247374      0        21.0   60.79492\n",
       "       8    0.238862      1        21.0   60.79492\n",
       "       9    0.189142      0        21.0   60.79492\n",
       "\n",
       "[608983 rows x 4 columns]"
      ]
     },
     "execution_count": 7,
     "metadata": {},
     "output_type": "execute_result"
    }
   ],
   "source": [
    "low_energy"
   ]
  },
  {
   "cell_type": "code",
   "execution_count": 8,
   "id": "6af16219",
   "metadata": {},
   "outputs": [
    {
     "data": {
      "text/html": [
       "<div>\n",
       "<style scoped>\n",
       "    .dataframe tbody tr th:only-of-type {\n",
       "        vertical-align: middle;\n",
       "    }\n",
       "\n",
       "    .dataframe tbody tr th {\n",
       "        vertical-align: top;\n",
       "    }\n",
       "\n",
       "    .dataframe thead th {\n",
       "        text-align: right;\n",
       "    }\n",
       "</style>\n",
       "<table border=\"1\" class=\"dataframe\">\n",
       "  <thead>\n",
       "    <tr style=\"text-align: right;\">\n",
       "      <th></th>\n",
       "      <th></th>\n",
       "      <th>et_cluster</th>\n",
       "      <th>in_sc</th>\n",
       "      <th>parton_pdg</th>\n",
       "      <th>parton_pt</th>\n",
       "    </tr>\n",
       "  </thead>\n",
       "  <tbody>\n",
       "    <tr>\n",
       "      <th rowspan=\"5\" valign=\"top\">0</th>\n",
       "      <th>0</th>\n",
       "      <td>3.947484</td>\n",
       "      <td>1</td>\n",
       "      <td>21.0</td>\n",
       "      <td>311.50806</td>\n",
       "    </tr>\n",
       "    <tr>\n",
       "      <th>1</th>\n",
       "      <td>3.682796</td>\n",
       "      <td>1</td>\n",
       "      <td>21.0</td>\n",
       "      <td>311.50806</td>\n",
       "    </tr>\n",
       "    <tr>\n",
       "      <th>2</th>\n",
       "      <td>3.659738</td>\n",
       "      <td>1</td>\n",
       "      <td>21.0</td>\n",
       "      <td>311.50806</td>\n",
       "    </tr>\n",
       "    <tr>\n",
       "      <th>3</th>\n",
       "      <td>1.034608</td>\n",
       "      <td>0</td>\n",
       "      <td>21.0</td>\n",
       "      <td>311.50806</td>\n",
       "    </tr>\n",
       "    <tr>\n",
       "      <th>4</th>\n",
       "      <td>0.578327</td>\n",
       "      <td>0</td>\n",
       "      <td>21.0</td>\n",
       "      <td>311.50806</td>\n",
       "    </tr>\n",
       "    <tr>\n",
       "      <th>...</th>\n",
       "      <th>...</th>\n",
       "      <td>...</td>\n",
       "      <td>...</td>\n",
       "      <td>...</td>\n",
       "      <td>...</td>\n",
       "    </tr>\n",
       "    <tr>\n",
       "      <th rowspan=\"2\" valign=\"top\">199997</th>\n",
       "      <th>2</th>\n",
       "      <td>0.597707</td>\n",
       "      <td>0</td>\n",
       "      <td>3.0</td>\n",
       "      <td>208.25095</td>\n",
       "    </tr>\n",
       "    <tr>\n",
       "      <th>3</th>\n",
       "      <td>0.343971</td>\n",
       "      <td>0</td>\n",
       "      <td>3.0</td>\n",
       "      <td>208.25095</td>\n",
       "    </tr>\n",
       "    <tr>\n",
       "      <th>199998</th>\n",
       "      <th>0</th>\n",
       "      <td>0.970586</td>\n",
       "      <td>1</td>\n",
       "      <td>1.0</td>\n",
       "      <td>276.53662</td>\n",
       "    </tr>\n",
       "    <tr>\n",
       "      <th rowspan=\"2\" valign=\"top\">199999</th>\n",
       "      <th>0</th>\n",
       "      <td>3.247847</td>\n",
       "      <td>1</td>\n",
       "      <td>21.0</td>\n",
       "      <td>202.38898</td>\n",
       "    </tr>\n",
       "    <tr>\n",
       "      <th>1</th>\n",
       "      <td>1.168087</td>\n",
       "      <td>0</td>\n",
       "      <td>21.0</td>\n",
       "      <td>202.38898</td>\n",
       "    </tr>\n",
       "  </tbody>\n",
       "</table>\n",
       "<p>1155033 rows × 4 columns</p>\n",
       "</div>"
      ],
      "text/plain": [
       "          et_cluster  in_sc  parton_pdg  parton_pt\n",
       "0      0    3.947484      1        21.0  311.50806\n",
       "       1    3.682796      1        21.0  311.50806\n",
       "       2    3.659738      1        21.0  311.50806\n",
       "       3    1.034608      0        21.0  311.50806\n",
       "       4    0.578327      0        21.0  311.50806\n",
       "...              ...    ...         ...        ...\n",
       "199997 2    0.597707      0         3.0  208.25095\n",
       "       3    0.343971      0         3.0  208.25095\n",
       "199998 0    0.970586      1         1.0  276.53662\n",
       "199999 0    3.247847      1        21.0  202.38898\n",
       "       1    1.168087      0        21.0  202.38898\n",
       "\n",
       "[1155033 rows x 4 columns]"
      ]
     },
     "execution_count": 8,
     "metadata": {},
     "output_type": "execute_result"
    }
   ],
   "source": [
    "df_jet"
   ]
  },
  {
   "cell_type": "code",
   "execution_count": 9,
   "id": "02d3db70",
   "metadata": {},
   "outputs": [],
   "source": [
    "df_jet['et_window'] = df_jet['in_sc']*df_jet['et_cluster']\n",
    "df_gamma['et_window'] = df_gamma['in_sc']*df_gamma['et_cluster']\n",
    "df_ele['et_window'] = df_ele['in_sc']*df_ele['et_cluster']"
   ]
  },
  {
   "cell_type": "code",
   "execution_count": 10,
   "id": "a532278d",
   "metadata": {},
   "outputs": [
    {
     "name": "stderr",
     "output_type": "stream",
     "text": [
      "/usr/local/bin/start_ipykernel.py:1: SettingWithCopyWarning: \n",
      "A value is trying to be set on a copy of a slice from a DataFrame.\n",
      "Try using .loc[row_indexer,col_indexer] = value instead\n",
      "\n",
      "See the caveats in the documentation: https://pandas.pydata.org/pandas-docs/stable/user_guide/indexing.html#returning-a-view-versus-a-copy\n",
      "  \n",
      "/usr/local/bin/start_ipykernel.py:2: SettingWithCopyWarning: \n",
      "A value is trying to be set on a copy of a slice from a DataFrame.\n",
      "Try using .loc[row_indexer,col_indexer] = value instead\n",
      "\n",
      "See the caveats in the documentation: https://pandas.pydata.org/pandas-docs/stable/user_guide/indexing.html#returning-a-view-versus-a-copy\n",
      "  if __name__ == '__main__':\n"
     ]
    }
   ],
   "source": [
    "low_energy['et_window'] = low_energy['in_sc']*low_energy['et_cluster']\n",
    "high_energy['et_window'] = high_energy['in_sc']*high_energy['et_cluster']\n",
    "\n",
    "df_gamma['et_window'] = df_gamma['in_sc']*df_gamma['et_cluster']"
   ]
  },
  {
   "cell_type": "code",
   "execution_count": 11,
   "id": "248a6802",
   "metadata": {},
   "outputs": [],
   "source": [
    "et_window_low = low_energy.groupby(level=0).sum()\n",
    "et_window_high = high_energy.groupby(level=0).sum()"
   ]
  },
  {
   "cell_type": "code",
   "execution_count": 12,
   "id": "db15a1a8",
   "metadata": {},
   "outputs": [],
   "source": [
    "et_window_low = et_window_low[et_window_low['et_window'] < 100]\n",
    "et_window_high = et_window_high[et_window_high['et_window'] < 100]\n",
    "\n",
    "et_window_gamma = df_gamma.groupby(level=0).sum()\n",
    "et_window_gamma = et_window_gamma[et_window_gamma['et_window'] < 100]\n",
    "\n",
    "et_window_ele = df_ele.groupby(level=0).sum()\n",
    "et_window_ele = et_window_ele[et_window_ele['et_window'] < 100]"
   ]
  },
  {
   "cell_type": "code",
   "execution_count": 13,
   "id": "00aa99f8",
   "metadata": {},
   "outputs": [],
   "source": [
    "import numpy as np \n",
    "bins = [0,1,2,3,4,5,6,7,8,9,10,15,20,25,30,35,40,45,50,55,60,65,70,75,80,85,90,95,100, np.inf]"
   ]
  },
  {
   "cell_type": "code",
   "execution_count": 14,
   "id": "0f043301",
   "metadata": {},
   "outputs": [
    {
     "data": {
      "text/plain": [
       "19997     28.271299\n",
       "19999      0.904349\n",
       "20003     28.965640\n",
       "20011     19.587410\n",
       "20012      2.540510\n",
       "            ...    \n",
       "197616     1.538263\n",
       "197636     3.049627\n",
       "197637    13.428740\n",
       "197638     0.986727\n",
       "197650     2.528234\n",
       "Name: et_window, Length: 109667, dtype: float64"
      ]
     },
     "execution_count": 14,
     "metadata": {},
     "output_type": "execute_result"
    }
   ],
   "source": [
    "et_window_low['et_window']"
   ]
  },
  {
   "cell_type": "code",
   "execution_count": 15,
   "id": "1bd8dfb8",
   "metadata": {},
   "outputs": [],
   "source": [
    "et_window_ge = pd.concat([et_window_gamma['et_window'], et_window_ele['et_window']])"
   ]
  },
  {
   "cell_type": "code",
   "execution_count": 16,
   "id": "9eeb47ff",
   "metadata": {},
   "outputs": [
    {
     "data": {
      "image/png": "[encoded data removed]",
      "text/plain": [
       "<Figure size 432x288 with 1 Axes>"
      ]
     },
     "metadata": {
      "needs_background": "light"
     },
     "output_type": "display_data"
    }
   ],
   "source": [
    "values_jets_high, bins, _ = plt.hist(et_window_high['et_window'], histtype='step', bins=bins, density=True, label='high')\n",
    "values_jets_low, bins, _ = plt.hist(et_window_low['et_window'], histtype='step', bins=bins, density=True, label='low')\n",
    "values_ge, bins, _ = plt.hist(et_window_ge, histtype='step', bins=bins, density=True, label='gamma')\n",
    "#values_ele, bins, _ = plt.hist(et_window_ele['et_window'], histtype='step', bins=bins, density=True, label='ele')\n",
    "plt.legend()\n",
    "plt.grid()"
   ]
  },
  {
   "cell_type": "code",
   "execution_count": 92,
   "id": "e98b0f71",
   "metadata": {},
   "outputs": [
    {
     "name": "stderr",
     "output_type": "stream",
     "text": [
      "/tmp/ipykernel_847/1907580068.py:1: RuntimeWarning: invalid value encountered in true_divide\n",
      "  ratio_low = values_gamma/values_jets_low\n",
      "/tmp/ipykernel_847/1907580068.py:2: RuntimeWarning: invalid value encountered in true_divide\n",
      "  ratio_high = values_gamma/values_jets_high\n"
     ]
    },
    {
     "data": {
      "text/plain": [
       "((29,), (30,))"
      ]
     },
     "execution_count": 92,
     "metadata": {},
     "output_type": "execute_result"
    }
   ],
   "source": [
    "ratio_low = values_gamma/values_jets_low\n",
    "ratio_high = values_gamma/values_jets_high\n",
    "ratio_low.shape, bins.shape"
   ]
  },
  {
   "cell_type": "code",
   "execution_count": 17,
   "id": "22551209",
   "metadata": {},
   "outputs": [
    {
     "name": "stderr",
     "output_type": "stream",
     "text": [
      "/usr/local/bin/start_ipykernel.py:1: RuntimeWarning: invalid value encountered in true_divide\n",
      "  \n"
     ]
    }
   ],
   "source": [
    "ratio = values_jets_high/values_ge"
   ]
  },
  {
   "cell_type": "code",
   "execution_count": 18,
   "id": "d28f539e",
   "metadata": {},
   "outputs": [
    {
     "data": {
      "text/plain": [
       "array([31.80869291, 17.34845919,  8.75468379,  4.45531185,  2.56365254,\n",
       "        1.7083835 ,  1.23585146,  0.87824486,  0.71778839,  0.67459965,\n",
       "        0.45278829,  0.33098445,  0.32413277,  0.33305491,  0.34878093,\n",
       "        0.40155663,  0.41727553,  0.41909029,  0.42925912,  0.44033464,\n",
       "        0.43944197,  0.43865448,  0.44313235,  0.41881948,  0.41294361,\n",
       "        0.4414256 ,  0.49865716,  1.02203287,         nan])"
      ]
     },
     "execution_count": 18,
     "metadata": {},
     "output_type": "execute_result"
    }
   ],
   "source": [
    "ratio"
   ]
  },
  {
   "cell_type": "code",
   "execution_count": 94,
   "id": "e51fae99",
   "metadata": {},
   "outputs": [
    {
     "name": "stderr",
     "output_type": "stream",
     "text": [
      "/tmp/ipykernel_847/1312938756.py:1: RuntimeWarning: invalid value encountered in true_divide\n",
      "  ratio_ele = values_jets_high/values_ele\n",
      "/tmp/ipykernel_847/1312938756.py:2: RuntimeWarning: invalid value encountered in true_divide\n",
      "  ratio_gamma = values_jets_high/values_gamma\n"
     ]
    }
   ],
   "source": [
    "ratio_ele = values_jets_high/values_ele\n",
    "ratio_gamma = values_jets_high/values_gamma"
   ]
  },
  {
   "cell_type": "code",
   "execution_count": 95,
   "id": "6deaba9e",
   "metadata": {},
   "outputs": [
    {
     "data": {
      "text/plain": [
       "array([30.69124255, 15.75889412,  8.52752905,  4.17488013,  2.41517783,\n",
       "        1.56968522,  1.12746989,  0.80709683,  0.65485227,  0.64491366,\n",
       "        0.43657311,  0.34819469,  0.33838407,  0.36417754,  0.37760626,\n",
       "        0.43375006,  0.44560621,  0.43446089,  0.45498846,  0.49378163,\n",
       "        0.47107794,  0.47893611,  0.48097638,  0.4451653 ,  0.43769201,\n",
       "        0.50621865,  0.56450678,  1.37471602,         nan])"
      ]
     },
     "execution_count": 95,
     "metadata": {},
     "output_type": "execute_result"
    }
   ],
   "source": [
    "ratio_ele"
   ]
  },
  {
   "cell_type": "code",
   "execution_count": 96,
   "id": "63351a59",
   "metadata": {},
   "outputs": [
    {
     "data": {
      "text/plain": [
       "array([30.82755444, 17.39950399,  8.26866192,  4.33214078,  2.48550424,\n",
       "        1.59466232,  1.18198579,  0.85084083,  0.65030384,  0.68098678,\n",
       "        0.45038456,  0.35409159,  0.35163807,  0.36958969,  0.38061   ,\n",
       "        0.43190555,  0.4527367 ,  0.43384806,  0.4542559 ,  0.48389023,\n",
       "        0.47868514,  0.48173844,  0.47989816,  0.44551053,  0.43714645,\n",
       "        0.49317805,  0.51648325,  1.02628186,         nan])"
      ]
     },
     "execution_count": 96,
     "metadata": {},
     "output_type": "execute_result"
    }
   ],
   "source": [
    "ratio_gamma"
   ]
  },
  {
   "cell_type": "code",
   "execution_count": 19,
   "id": "4766333d",
   "metadata": {},
   "outputs": [],
   "source": [
    "d_ge = {'start_bin': bins[:-1],\n",
    "    'end_bin': bins[1:], \n",
    "    'weight': ratio}"
   ]
  },
  {
   "cell_type": "code",
   "execution_count": 20,
   "id": "317a3fb7",
   "metadata": {},
   "outputs": [],
   "source": [
    "df_weights = pd.DataFrame(data=d_ge)"
   ]
  },
  {
   "cell_type": "code",
   "execution_count": 21,
   "id": "04eeba21",
   "metadata": {},
   "outputs": [],
   "source": [
    "df_weights.to_csv('weights_gamma_electron.csv')"
   ]
  },
  {
   "cell_type": "code",
   "execution_count": null,
   "id": "96cd06cb",
   "metadata": {},
   "outputs": [],
   "source": []
  },
  {
   "cell_type": "code",
   "execution_count": 57,
   "id": "e8be7c25",
   "metadata": {},
   "outputs": [],
   "source": [
    "d_low = {'start_bin': bins[:-1],\n",
    "    'end_bin': bins[1:], \n",
    "    'weight': ratio_low}\n",
    "\n",
    "d_high = {'start_bin': bins[:-1],\n",
    "    'end_bin': bins[1:], \n",
    "    'weight': ratio_high}"
   ]
  },
  {
   "cell_type": "code",
   "execution_count": 61,
   "id": "367c3733",
   "metadata": {},
   "outputs": [
    {
     "data": {
      "text/plain": [
       "{'start_bin': array([  0.,   1.,   2.,   3.,   4.,   5.,   6.,   7.,   8.,   9.,  10.,\n",
       "         15.,  20.,  25.,  30.,  35.,  40.,  45.,  50.,  55.,  60.,  65.,\n",
       "         70.,  75.,  80.,  85.,  90.,  95., 100.]),\n",
       " 'end_bin': array([  1.,   2.,   3.,   4.,   5.,   6.,   7.,   8.,   9.,  10.,  15.,\n",
       "         20.,  25.,  30.,  35.,  40.,  45.,  50.,  55.,  60.,  65.,  70.,\n",
       "         75.,  80.,  85.,  90.,  95., 100.,  inf]),\n",
       " 'weight': array([0.0314705 , 0.05485672, 0.11535608, 0.21842892, 0.38306947,\n",
       "        0.58224338, 0.77600143, 1.07903954, 1.42135363, 1.40687245,\n",
       "        2.20147109, 3.02564372, 3.10831973, 2.99860867, 2.84752878,\n",
       "        2.52292966, 2.37011316, 2.3797175 , 2.3697807 , 2.26116403,\n",
       "        2.32202178, 2.27592798, 2.25811728, 2.34988754, 2.33706357,\n",
       "        2.31331262, 2.13560146, 1.10934646,        nan])}"
      ]
     },
     "execution_count": 61,
     "metadata": {},
     "output_type": "execute_result"
    }
   ],
   "source": [
    "d_high"
   ]
  },
  {
   "cell_type": "code",
   "execution_count": 58,
   "id": "38dc5f58",
   "metadata": {},
   "outputs": [],
   "source": [
    "df_weights_low = pd.DataFrame(data=d_low)\n",
    "df_weights_high = pd.DataFrame(data=d_high)"
   ]
  },
  {
   "cell_type": "code",
   "execution_count": 59,
   "id": "a2858860",
   "metadata": {},
   "outputs": [],
   "source": [
    "et_window_high['w_bin'] = np.digitize(et_window_high.et_window, bins)-1"
   ]
  },
  {
   "cell_type": "code",
   "execution_count": 64,
   "id": "c439d491",
   "metadata": {},
   "outputs": [],
   "source": [
    "et_window_high = et_window_high.join(pd.DataFrame(ratio_high, columns=['weight']), on='w_bin')"
   ]
  },
  {
   "cell_type": "code",
   "execution_count": 65,
   "id": "1a00eb7b",
   "metadata": {},
   "outputs": [
    {
     "data": {
      "text/html": [
       "<div>\n",
       "<style scoped>\n",
       "    .dataframe tbody tr th:only-of-type {\n",
       "        vertical-align: middle;\n",
       "    }\n",
       "\n",
       "    .dataframe tbody tr th {\n",
       "        vertical-align: top;\n",
       "    }\n",
       "\n",
       "    .dataframe thead th {\n",
       "        text-align: right;\n",
       "    }\n",
       "</style>\n",
       "<table border=\"1\" class=\"dataframe\">\n",
       "  <thead>\n",
       "    <tr style=\"text-align: right;\">\n",
       "      <th></th>\n",
       "      <th>et_cluster</th>\n",
       "      <th>in_sc</th>\n",
       "      <th>parton_pdg</th>\n",
       "      <th>parton_pt</th>\n",
       "      <th>et_window</th>\n",
       "      <th>w_bin</th>\n",
       "      <th>weight</th>\n",
       "    </tr>\n",
       "  </thead>\n",
       "  <tbody>\n",
       "    <tr>\n",
       "      <th>0</th>\n",
       "      <td>1.851451</td>\n",
       "      <td>2</td>\n",
       "      <td>8.0</td>\n",
       "      <td>1427.49132</td>\n",
       "      <td>1.373960</td>\n",
       "      <td>1</td>\n",
       "      <td>0.054857</td>\n",
       "    </tr>\n",
       "    <tr>\n",
       "      <th>1</th>\n",
       "      <td>51.827144</td>\n",
       "      <td>14</td>\n",
       "      <td>399.0</td>\n",
       "      <td>8801.11673</td>\n",
       "      <td>50.553132</td>\n",
       "      <td>18</td>\n",
       "      <td>2.369781</td>\n",
       "    </tr>\n",
       "    <tr>\n",
       "      <th>2</th>\n",
       "      <td>16.049390</td>\n",
       "      <td>8</td>\n",
       "      <td>273.0</td>\n",
       "      <td>4049.60478</td>\n",
       "      <td>13.604461</td>\n",
       "      <td>10</td>\n",
       "      <td>2.201471</td>\n",
       "    </tr>\n",
       "    <tr>\n",
       "      <th>3</th>\n",
       "      <td>1.023366</td>\n",
       "      <td>1</td>\n",
       "      <td>3.0</td>\n",
       "      <td>261.45830</td>\n",
       "      <td>1.023366</td>\n",
       "      <td>1</td>\n",
       "      <td>0.054857</td>\n",
       "    </tr>\n",
       "    <tr>\n",
       "      <th>4</th>\n",
       "      <td>4.076165</td>\n",
       "      <td>1</td>\n",
       "      <td>63.0</td>\n",
       "      <td>1389.65001</td>\n",
       "      <td>1.474747</td>\n",
       "      <td>1</td>\n",
       "      <td>0.054857</td>\n",
       "    </tr>\n",
       "    <tr>\n",
       "      <th>...</th>\n",
       "      <td>...</td>\n",
       "      <td>...</td>\n",
       "      <td>...</td>\n",
       "      <td>...</td>\n",
       "      <td>...</td>\n",
       "      <td>...</td>\n",
       "      <td>...</td>\n",
       "    </tr>\n",
       "    <tr>\n",
       "      <th>199992</th>\n",
       "      <td>3.414468</td>\n",
       "      <td>3</td>\n",
       "      <td>168.0</td>\n",
       "      <td>2300.36352</td>\n",
       "      <td>2.124926</td>\n",
       "      <td>2</td>\n",
       "      <td>0.115356</td>\n",
       "    </tr>\n",
       "    <tr>\n",
       "      <th>199993</th>\n",
       "      <td>3.422813</td>\n",
       "      <td>1</td>\n",
       "      <td>21.0</td>\n",
       "      <td>178.77808</td>\n",
       "      <td>3.422813</td>\n",
       "      <td>3</td>\n",
       "      <td>0.218429</td>\n",
       "    </tr>\n",
       "    <tr>\n",
       "      <th>199995</th>\n",
       "      <td>0.825300</td>\n",
       "      <td>1</td>\n",
       "      <td>21.0</td>\n",
       "      <td>287.54544</td>\n",
       "      <td>0.825300</td>\n",
       "      <td>0</td>\n",
       "      <td>0.031471</td>\n",
       "    </tr>\n",
       "    <tr>\n",
       "      <th>199997</th>\n",
       "      <td>1.598616</td>\n",
       "      <td>1</td>\n",
       "      <td>-3.0</td>\n",
       "      <td>355.11861</td>\n",
       "      <td>0.942884</td>\n",
       "      <td>0</td>\n",
       "      <td>0.031471</td>\n",
       "    </tr>\n",
       "    <tr>\n",
       "      <th>199999</th>\n",
       "      <td>1.596631</td>\n",
       "      <td>1</td>\n",
       "      <td>21.0</td>\n",
       "      <td>178.77808</td>\n",
       "      <td>1.596631</td>\n",
       "      <td>1</td>\n",
       "      <td>0.054857</td>\n",
       "    </tr>\n",
       "  </tbody>\n",
       "</table>\n",
       "<p>60610 rows × 7 columns</p>\n",
       "</div>"
      ],
      "text/plain": [
       "        et_cluster  in_sc  parton_pdg   parton_pt  et_window  w_bin    weight\n",
       "0         1.851451      2         8.0  1427.49132   1.373960      1  0.054857\n",
       "1        51.827144     14       399.0  8801.11673  50.553132     18  2.369781\n",
       "2        16.049390      8       273.0  4049.60478  13.604461     10  2.201471\n",
       "3         1.023366      1         3.0   261.45830   1.023366      1  0.054857\n",
       "4         4.076165      1        63.0  1389.65001   1.474747      1  0.054857\n",
       "...            ...    ...         ...         ...        ...    ...       ...\n",
       "199992    3.414468      3       168.0  2300.36352   2.124926      2  0.115356\n",
       "199993    3.422813      1        21.0   178.77808   3.422813      3  0.218429\n",
       "199995    0.825300      1        21.0   287.54544   0.825300      0  0.031471\n",
       "199997    1.598616      1        -3.0   355.11861   0.942884      0  0.031471\n",
       "199999    1.596631      1        21.0   178.77808   1.596631      1  0.054857\n",
       "\n",
       "[60610 rows x 7 columns]"
      ]
     },
     "execution_count": 65,
     "metadata": {},
     "output_type": "execute_result"
    }
   ],
   "source": [
    "et_window_high"
   ]
  },
  {
   "cell_type": "code",
   "execution_count": 70,
   "id": "758b28c6",
   "metadata": {},
   "outputs": [
    {
     "data": {
      "image/png": "[encoded data removed]",
      "text/plain": [
       "<Figure size 750x750 with 1 Axes>"
      ]
     },
     "metadata": {
      "needs_background": "light"
     },
     "output_type": "display_data"
    }
   ],
   "source": [
    "values_jets_high, bins, _ = plt.hist(et_window_high['et_window'], histtype='step',  bins=bins, weights=et_window_high['weight'], density=True, label='high')\n",
    "#values_jets_low, bins, _ = plt.hist(et_window_low['et_window'], histtype='step',  bins=bins, density=True, label='low')\n",
    "values_gamma, bins, _ = plt.hist(et_window_gamma['et_window'], histtype='step',  bins=bins, density=True, label='gamma')\n",
    "plt.legend()\n",
    "plt.grid()"
   ]
  },
  {
   "cell_type": "code",
   "execution_count": 73,
   "id": "8c253f89",
   "metadata": {},
   "outputs": [
    {
     "data": {
      "text/plain": [
       "(0.0, 10.0)"
      ]
     },
     "execution_count": 73,
     "metadata": {},
     "output_type": "execute_result"
    },
    {
     "data": {
      "image/png": "[encoded data removed]",
      "text/plain": [
       "<Figure size 750x750 with 1 Axes>"
      ]
     },
     "metadata": {
      "needs_background": "light"
     },
     "output_type": "display_data"
    }
   ],
   "source": [
    "plt.scatter(bins[:-1], ratio_low) \n",
    "plt.scatter(bins[:-1], ratio_high)\n",
    "plt.ylim(0,10)"
   ]
  },
  {
   "cell_type": "code",
   "execution_count": null,
   "id": "f77277f6",
   "metadata": {},
   "outputs": [],
   "source": []
  },
  {
   "cell_type": "code",
   "execution_count": null,
   "id": "2cf3c0d7",
   "metadata": {},
   "outputs": [],
   "source": []
  },
  {
   "cell_type": "code",
   "execution_count": null,
   "id": "604ad4ca",
   "metadata": {},
   "outputs": [],
   "source": []
  },
  {
   "cell_type": "code",
   "execution_count": 9,
   "id": "0dede5bf",
   "metadata": {},
   "outputs": [],
   "source": [
    "import numpy as np \n",
    "bins = [0,1,2,3,4,5,6,7,8,9,10,15,20,25,30,35,40,45,50,55,60,65,70,75,80,85,90,95,100, np.inf]"
   ]
  },
  {
   "cell_type": "code",
   "execution_count": 10,
   "id": "6a6245af",
   "metadata": {},
   "outputs": [
    {
     "data": {
      "image/png": "[encoded data removed]",
      "text/plain": [
       "<Figure size 750x750 with 1 Axes>"
      ]
     },
     "metadata": {
      "needs_background": "light"
     },
     "output_type": "display_data"
    }
   ],
   "source": [
    "values_jets, bins, _ = plt.hist(et_window_jet['et_window'], histtype='step',  bins=bins, density=True)\n",
    "values_gamma, bins, _ = plt.hist(et_window_gamma['et_window'], histtype='step',  bins=bins, density=True)\n",
    "plt.grid()"
   ]
  },
  {
   "cell_type": "code",
   "execution_count": 14,
   "id": "57beba28",
   "metadata": {},
   "outputs": [
    {
     "name": "stderr",
     "output_type": "stream",
     "text": [
      "/tmp/ipykernel_785/1267314534.py:1: RuntimeWarning: invalid value encountered in true_divide\n",
      "  ratio = values_gamma/values_jets\n"
     ]
    },
    {
     "data": {
      "text/plain": [
       "((29,), (30,))"
      ]
     },
     "execution_count": 14,
     "metadata": {},
     "output_type": "execute_result"
    }
   ],
   "source": [
    "ratio = values_gamma/values_jets\n",
    "ratio.shape, bins.shape"
   ]
  },
  {
   "cell_type": "code",
   "execution_count": 15,
   "id": "37a3cdb1",
   "metadata": {},
   "outputs": [
    {
     "data": {
      "text/plain": [
       "<matplotlib.collections.PathCollection at 0x7fb711711850>"
      ]
     },
     "execution_count": 15,
     "metadata": {},
     "output_type": "execute_result"
    },
    {
     "data": {
      "image/png": "[encoded data removed]",
      "text/plain": [
       "<Figure size 750x750 with 1 Axes>"
      ]
     },
     "metadata": {
      "needs_background": "light"
     },
     "output_type": "display_data"
    }
   ],
   "source": [
    "plt.scatter(bins[:-1], ratio) "
   ]
  },
  {
   "cell_type": "code",
   "execution_count": 17,
   "id": "ec18771e",
   "metadata": {},
   "outputs": [
    {
     "data": {
      "text/plain": [
       "((102328,), (29,))"
      ]
     },
     "execution_count": 17,
     "metadata": {},
     "output_type": "execute_result"
    }
   ],
   "source": [
    "et_window_jet['et_window'].shape, ratio.shape"
   ]
  },
  {
   "cell_type": "code",
   "execution_count": 18,
   "id": "cf69b349",
   "metadata": {},
   "outputs": [
    {
     "data": {
      "image/png": "[encoded data removed]",
      "text/plain": [
       "<Figure size 750x750 with 1 Axes>"
      ]
     },
     "metadata": {
      "needs_background": "light"
     },
     "output_type": "display_data"
    }
   ],
   "source": [
    "values_jets, bins, _ = plt.hist(et_window_jet['et_window'], histtype='step',  bins=bins, density=True)\n",
    "values_gamma, bins, _ = plt.hist(et_window_gamma['et_window'], histtype='step',  bins=bins, density=True)\n",
    "plt.grid()"
   ]
  },
  {
   "cell_type": "code",
   "execution_count": 162,
   "id": "fbbbad53",
   "metadata": {},
   "outputs": [],
   "source": [
    "d = {'start_bin': bins[:-1],\n",
    "    'end_bin': bins[1:], \n",
    "    'weight': ratio}"
   ]
  },
  {
   "cell_type": "code",
   "execution_count": 163,
   "id": "5463a8e1",
   "metadata": {},
   "outputs": [],
   "source": [
    "df_weights = pd.DataFrame(data=d)"
   ]
  },
  {
   "cell_type": "code",
   "execution_count": 164,
   "id": "92cd2033",
   "metadata": {},
   "outputs": [],
   "source": [
    "import numpy as np\n",
    "et_window_jet['w_bin'] = np.digitize(et_window_jet.et_window, bins)-1"
   ]
  },
  {
   "cell_type": "code",
   "execution_count": 165,
   "id": "bcf62cf9",
   "metadata": {},
   "outputs": [
    {
     "data": {
      "text/plain": [
       "array([ 1, 18, 10, ...,  0,  0,  1])"
      ]
     },
     "execution_count": 165,
     "metadata": {},
     "output_type": "execute_result"
    }
   ],
   "source": [
    "et_window_jet['w_bin'].values"
   ]
  },
  {
   "cell_type": "code",
   "execution_count": 169,
   "id": "d26fa37c",
   "metadata": {},
   "outputs": [],
   "source": [
    "df_weights.weight.loc[28] = 0"
   ]
  },
  {
   "cell_type": "code",
   "execution_count": 200,
   "id": "20b930c6",
   "metadata": {},
   "outputs": [],
   "source": [
    "bins = df_weights.start_bin.values"
   ]
  },
  {
   "cell_type": "code",
   "execution_count": 191,
   "id": "858abc8e",
   "metadata": {},
   "outputs": [],
   "source": []
  },
  {
   "cell_type": "code",
   "execution_count": 108,
   "id": "175f044d",
   "metadata": {},
   "outputs": [],
   "source": [
    "bins = df_weights['end_bin'].values "
   ]
  },
  {
   "cell_type": "code",
   "execution_count": 202,
   "id": "96cd04b2",
   "metadata": {},
   "outputs": [],
   "source": [
    "my_values = [1.2, 4.1, 12.0]\n"
   ]
  },
  {
   "cell_type": "code",
   "execution_count": 203,
   "id": "f138f917",
   "metadata": {},
   "outputs": [
    {
     "data": {
      "text/plain": [
       "array([  0.,   1.,   2.,   3.,   4.,   5.,   6.,   7.,   8.,   9.,  10.,\n",
       "        15.,  20.,  25.,  30.,  35.,  40.,  45.,  50.,  55.,  60.,  65.,\n",
       "        70.,  75.,  80.,  85.,  90.,  95., 100.], dtype=float32)"
      ]
     },
     "execution_count": 203,
     "metadata": {},
     "output_type": "execute_result"
    }
   ],
   "source": [
    "bins"
   ]
  },
  {
   "cell_type": "code",
   "execution_count": 201,
   "id": "d404faf5",
   "metadata": {},
   "outputs": [],
   "source": [
    "bins = bins.astype(np.float32)"
   ]
  },
  {
   "cell_type": "code",
   "execution_count": 74,
   "id": "e759a03f",
   "metadata": {},
   "outputs": [
    {
     "data": {
      "text/html": [
       "<div>\n",
       "<style scoped>\n",
       "    .dataframe tbody tr th:only-of-type {\n",
       "        vertical-align: middle;\n",
       "    }\n",
       "\n",
       "    .dataframe tbody tr th {\n",
       "        vertical-align: top;\n",
       "    }\n",
       "\n",
       "    .dataframe thead th {\n",
       "        text-align: right;\n",
       "    }\n",
       "</style>\n",
       "<table border=\"1\" class=\"dataframe\">\n",
       "  <thead>\n",
       "    <tr style=\"text-align: right;\">\n",
       "      <th></th>\n",
       "      <th>weight</th>\n",
       "    </tr>\n",
       "  </thead>\n",
       "  <tbody>\n",
       "    <tr>\n",
       "      <th>1</th>\n",
       "      <td>0.058515</td>\n",
       "    </tr>\n",
       "    <tr>\n",
       "      <th>18</th>\n",
       "      <td>3.341666</td>\n",
       "    </tr>\n",
       "    <tr>\n",
       "      <th>10</th>\n",
       "      <td>1.161105</td>\n",
       "    </tr>\n",
       "    <tr>\n",
       "      <th>1</th>\n",
       "      <td>0.058515</td>\n",
       "    </tr>\n",
       "    <tr>\n",
       "      <th>1</th>\n",
       "      <td>0.058515</td>\n",
       "    </tr>\n",
       "    <tr>\n",
       "      <th>...</th>\n",
       "      <td>...</td>\n",
       "    </tr>\n",
       "    <tr>\n",
       "      <th>2</th>\n",
       "      <td>0.112957</td>\n",
       "    </tr>\n",
       "    <tr>\n",
       "      <th>3</th>\n",
       "      <td>0.190385</td>\n",
       "    </tr>\n",
       "    <tr>\n",
       "      <th>0</th>\n",
       "      <td>0.034970</td>\n",
       "    </tr>\n",
       "    <tr>\n",
       "      <th>0</th>\n",
       "      <td>0.034970</td>\n",
       "    </tr>\n",
       "    <tr>\n",
       "      <th>1</th>\n",
       "      <td>0.058515</td>\n",
       "    </tr>\n",
       "  </tbody>\n",
       "</table>\n",
       "<p>102328 rows × 1 columns</p>\n",
       "</div>"
      ],
      "text/plain": [
       "      weight\n",
       "1   0.058515\n",
       "18  3.341666\n",
       "10  1.161105\n",
       "1   0.058515\n",
       "1   0.058515\n",
       "..       ...\n",
       "2   0.112957\n",
       "3   0.190385\n",
       "0   0.034970\n",
       "0   0.034970\n",
       "1   0.058515\n",
       "\n",
       "[102328 rows x 1 columns]"
      ]
     },
     "execution_count": 74,
     "metadata": {},
     "output_type": "execute_result"
    }
   ],
   "source": [
    "df_weights.iloc[et_window_jet['w_bin']]"
   ]
  },
  {
   "cell_type": "code",
   "execution_count": 48,
   "id": "776973f5",
   "metadata": {},
   "outputs": [
    {
     "data": {
      "text/html": [
       "<div>\n",
       "<style scoped>\n",
       "    .dataframe tbody tr th:only-of-type {\n",
       "        vertical-align: middle;\n",
       "    }\n",
       "\n",
       "    .dataframe tbody tr th {\n",
       "        vertical-align: top;\n",
       "    }\n",
       "\n",
       "    .dataframe thead th {\n",
       "        text-align: right;\n",
       "    }\n",
       "</style>\n",
       "<table border=\"1\" class=\"dataframe\">\n",
       "  <thead>\n",
       "    <tr style=\"text-align: right;\">\n",
       "      <th></th>\n",
       "      <th>start_bin</th>\n",
       "      <th>end_bin</th>\n",
       "      <th>weight</th>\n",
       "    </tr>\n",
       "  </thead>\n",
       "  <tbody>\n",
       "    <tr>\n",
       "      <th>0</th>\n",
       "      <td>0</td>\n",
       "      <td>1</td>\n",
       "      <td>0.034970</td>\n",
       "    </tr>\n",
       "    <tr>\n",
       "      <th>1</th>\n",
       "      <td>1</td>\n",
       "      <td>2</td>\n",
       "      <td>0.058515</td>\n",
       "    </tr>\n",
       "    <tr>\n",
       "      <th>2</th>\n",
       "      <td>2</td>\n",
       "      <td>3</td>\n",
       "      <td>0.112957</td>\n",
       "    </tr>\n",
       "    <tr>\n",
       "      <th>3</th>\n",
       "      <td>3</td>\n",
       "      <td>4</td>\n",
       "      <td>0.190385</td>\n",
       "    </tr>\n",
       "    <tr>\n",
       "      <th>4</th>\n",
       "      <td>4</td>\n",
       "      <td>5</td>\n",
       "      <td>0.290618</td>\n",
       "    </tr>\n",
       "    <tr>\n",
       "      <th>5</th>\n",
       "      <td>5</td>\n",
       "      <td>6</td>\n",
       "      <td>0.394501</td>\n",
       "    </tr>\n",
       "    <tr>\n",
       "      <th>6</th>\n",
       "      <td>6</td>\n",
       "      <td>7</td>\n",
       "      <td>0.503767</td>\n",
       "    </tr>\n",
       "    <tr>\n",
       "      <th>7</th>\n",
       "      <td>7</td>\n",
       "      <td>8</td>\n",
       "      <td>0.623328</td>\n",
       "    </tr>\n",
       "    <tr>\n",
       "      <th>8</th>\n",
       "      <td>8</td>\n",
       "      <td>9</td>\n",
       "      <td>0.796345</td>\n",
       "    </tr>\n",
       "    <tr>\n",
       "      <th>9</th>\n",
       "      <td>9</td>\n",
       "      <td>10</td>\n",
       "      <td>0.835133</td>\n",
       "    </tr>\n",
       "    <tr>\n",
       "      <th>10</th>\n",
       "      <td>10</td>\n",
       "      <td>15</td>\n",
       "      <td>1.161105</td>\n",
       "    </tr>\n",
       "    <tr>\n",
       "      <th>11</th>\n",
       "      <td>15</td>\n",
       "      <td>20</td>\n",
       "      <td>1.579901</td>\n",
       "    </tr>\n",
       "    <tr>\n",
       "      <th>12</th>\n",
       "      <td>20</td>\n",
       "      <td>25</td>\n",
       "      <td>1.955131</td>\n",
       "    </tr>\n",
       "    <tr>\n",
       "      <th>13</th>\n",
       "      <td>25</td>\n",
       "      <td>30</td>\n",
       "      <td>2.244599</td>\n",
       "    </tr>\n",
       "    <tr>\n",
       "      <th>14</th>\n",
       "      <td>30</td>\n",
       "      <td>35</td>\n",
       "      <td>2.627623</td>\n",
       "    </tr>\n",
       "    <tr>\n",
       "      <th>15</th>\n",
       "      <td>35</td>\n",
       "      <td>40</td>\n",
       "      <td>2.747834</td>\n",
       "    </tr>\n",
       "    <tr>\n",
       "      <th>16</th>\n",
       "      <td>40</td>\n",
       "      <td>45</td>\n",
       "      <td>2.861299</td>\n",
       "    </tr>\n",
       "    <tr>\n",
       "      <th>17</th>\n",
       "      <td>45</td>\n",
       "      <td>50</td>\n",
       "      <td>3.173611</td>\n",
       "    </tr>\n",
       "    <tr>\n",
       "      <th>18</th>\n",
       "      <td>50</td>\n",
       "      <td>55</td>\n",
       "      <td>3.341666</td>\n",
       "    </tr>\n",
       "    <tr>\n",
       "      <th>19</th>\n",
       "      <td>55</td>\n",
       "      <td>60</td>\n",
       "      <td>3.455500</td>\n",
       "    </tr>\n",
       "    <tr>\n",
       "      <th>20</th>\n",
       "      <td>60</td>\n",
       "      <td>65</td>\n",
       "      <td>3.682339</td>\n",
       "    </tr>\n",
       "    <tr>\n",
       "      <th>21</th>\n",
       "      <td>65</td>\n",
       "      <td>70</td>\n",
       "      <td>3.632915</td>\n",
       "    </tr>\n",
       "    <tr>\n",
       "      <th>22</th>\n",
       "      <td>70</td>\n",
       "      <td>75</td>\n",
       "      <td>3.683011</td>\n",
       "    </tr>\n",
       "    <tr>\n",
       "      <th>23</th>\n",
       "      <td>75</td>\n",
       "      <td>80</td>\n",
       "      <td>3.879561</td>\n",
       "    </tr>\n",
       "    <tr>\n",
       "      <th>24</th>\n",
       "      <td>80</td>\n",
       "      <td>85</td>\n",
       "      <td>3.905534</td>\n",
       "    </tr>\n",
       "    <tr>\n",
       "      <th>25</th>\n",
       "      <td>85</td>\n",
       "      <td>90</td>\n",
       "      <td>3.867218</td>\n",
       "    </tr>\n",
       "    <tr>\n",
       "      <th>26</th>\n",
       "      <td>90</td>\n",
       "      <td>95</td>\n",
       "      <td>3.596216</td>\n",
       "    </tr>\n",
       "    <tr>\n",
       "      <th>27</th>\n",
       "      <td>95</td>\n",
       "      <td>100</td>\n",
       "      <td>1.862113</td>\n",
       "    </tr>\n",
       "  </tbody>\n",
       "</table>\n",
       "</div>"
      ],
      "text/plain": [
       "    start_bin  end_bin    weight\n",
       "0           0        1  0.034970\n",
       "1           1        2  0.058515\n",
       "2           2        3  0.112957\n",
       "3           3        4  0.190385\n",
       "4           4        5  0.290618\n",
       "5           5        6  0.394501\n",
       "6           6        7  0.503767\n",
       "7           7        8  0.623328\n",
       "8           8        9  0.796345\n",
       "9           9       10  0.835133\n",
       "10         10       15  1.161105\n",
       "11         15       20  1.579901\n",
       "12         20       25  1.955131\n",
       "13         25       30  2.244599\n",
       "14         30       35  2.627623\n",
       "15         35       40  2.747834\n",
       "16         40       45  2.861299\n",
       "17         45       50  3.173611\n",
       "18         50       55  3.341666\n",
       "19         55       60  3.455500\n",
       "20         60       65  3.682339\n",
       "21         65       70  3.632915\n",
       "22         70       75  3.683011\n",
       "23         75       80  3.879561\n",
       "24         80       85  3.905534\n",
       "25         85       90  3.867218\n",
       "26         90       95  3.596216\n",
       "27         95      100  1.862113"
      ]
     },
     "execution_count": 48,
     "metadata": {},
     "output_type": "execute_result"
    }
   ],
   "source": []
  },
  {
   "cell_type": "code",
   "execution_count": 60,
   "id": "ca66c8c7",
   "metadata": {},
   "outputs": [
    {
     "data": {
      "text/plain": [
       "0          1\n",
       "1         18\n",
       "2         10\n",
       "3          1\n",
       "4          1\n",
       "          ..\n",
       "199992     2\n",
       "199993     3\n",
       "199995     0\n",
       "199997     0\n",
       "199999     1\n",
       "Name: w_bin, Length: 102328, dtype: int64"
      ]
     },
     "execution_count": 60,
     "metadata": {},
     "output_type": "execute_result"
    }
   ],
   "source": [
    "et_window_jet['w_bin']"
   ]
  },
  {
   "cell_type": "code",
   "execution_count": 52,
   "id": "367bf0ee",
   "metadata": {},
   "outputs": [
    {
     "data": {
      "text/html": [
       "<div>\n",
       "<style scoped>\n",
       "    .dataframe tbody tr th:only-of-type {\n",
       "        vertical-align: middle;\n",
       "    }\n",
       "\n",
       "    .dataframe tbody tr th {\n",
       "        vertical-align: top;\n",
       "    }\n",
       "\n",
       "    .dataframe thead th {\n",
       "        text-align: right;\n",
       "    }\n",
       "</style>\n",
       "<table border=\"1\" class=\"dataframe\">\n",
       "  <thead>\n",
       "    <tr style=\"text-align: right;\">\n",
       "      <th></th>\n",
       "      <th></th>\n",
       "      <th>et_cluster</th>\n",
       "      <th>in_sc</th>\n",
       "      <th>parton_pdg</th>\n",
       "      <th>et_window</th>\n",
       "      <th>w_bin</th>\n",
       "      <th>weight</th>\n",
       "    </tr>\n",
       "  </thead>\n",
       "  <tbody>\n",
       "    <tr>\n",
       "      <th rowspan=\"4\" valign=\"top\">0</th>\n",
       "      <th>0</th>\n",
       "      <td>1.146046</td>\n",
       "      <td>1</td>\n",
       "      <td>2.0</td>\n",
       "      <td>1.146046</td>\n",
       "      <td>1</td>\n",
       "      <td>0.058515</td>\n",
       "    </tr>\n",
       "    <tr>\n",
       "      <th>1</th>\n",
       "      <td>0.257063</td>\n",
       "      <td>0</td>\n",
       "      <td>2.0</td>\n",
       "      <td>0.000000</td>\n",
       "      <td>0</td>\n",
       "      <td>0.034970</td>\n",
       "    </tr>\n",
       "    <tr>\n",
       "      <th>2</th>\n",
       "      <td>0.227914</td>\n",
       "      <td>1</td>\n",
       "      <td>2.0</td>\n",
       "      <td>0.227914</td>\n",
       "      <td>0</td>\n",
       "      <td>0.034970</td>\n",
       "    </tr>\n",
       "    <tr>\n",
       "      <th>3</th>\n",
       "      <td>0.220428</td>\n",
       "      <td>0</td>\n",
       "      <td>2.0</td>\n",
       "      <td>0.000000</td>\n",
       "      <td>0</td>\n",
       "      <td>0.034970</td>\n",
       "    </tr>\n",
       "    <tr>\n",
       "      <th>1</th>\n",
       "      <th>0</th>\n",
       "      <td>15.198343</td>\n",
       "      <td>1</td>\n",
       "      <td>21.0</td>\n",
       "      <td>15.198343</td>\n",
       "      <td>11</td>\n",
       "      <td>1.579901</td>\n",
       "    </tr>\n",
       "    <tr>\n",
       "      <th>...</th>\n",
       "      <th>...</th>\n",
       "      <td>...</td>\n",
       "      <td>...</td>\n",
       "      <td>...</td>\n",
       "      <td>...</td>\n",
       "      <td>...</td>\n",
       "      <td>...</td>\n",
       "    </tr>\n",
       "    <tr>\n",
       "      <th rowspan=\"3\" valign=\"top\">199997</th>\n",
       "      <th>0</th>\n",
       "      <td>0.942884</td>\n",
       "      <td>1</td>\n",
       "      <td>-1.0</td>\n",
       "      <td>0.942884</td>\n",
       "      <td>0</td>\n",
       "      <td>0.034970</td>\n",
       "    </tr>\n",
       "    <tr>\n",
       "      <th>1</th>\n",
       "      <td>0.337245</td>\n",
       "      <td>0</td>\n",
       "      <td>-1.0</td>\n",
       "      <td>0.000000</td>\n",
       "      <td>0</td>\n",
       "      <td>0.034970</td>\n",
       "    </tr>\n",
       "    <tr>\n",
       "      <th>2</th>\n",
       "      <td>0.318488</td>\n",
       "      <td>0</td>\n",
       "      <td>-1.0</td>\n",
       "      <td>0.000000</td>\n",
       "      <td>0</td>\n",
       "      <td>0.034970</td>\n",
       "    </tr>\n",
       "    <tr>\n",
       "      <th>199998</th>\n",
       "      <th>1</th>\n",
       "      <td>5.222727</td>\n",
       "      <td>1</td>\n",
       "      <td>21.0</td>\n",
       "      <td>5.222727</td>\n",
       "      <td>5</td>\n",
       "      <td>0.394501</td>\n",
       "    </tr>\n",
       "    <tr>\n",
       "      <th>199999</th>\n",
       "      <th>0</th>\n",
       "      <td>1.596631</td>\n",
       "      <td>1</td>\n",
       "      <td>21.0</td>\n",
       "      <td>1.596631</td>\n",
       "      <td>1</td>\n",
       "      <td>0.058515</td>\n",
       "    </tr>\n",
       "  </tbody>\n",
       "</table>\n",
       "<p>777634 rows × 6 columns</p>\n",
       "</div>"
      ],
      "text/plain": [
       "          et_cluster  in_sc  parton_pdg  et_window  w_bin    weight\n",
       "0      0    1.146046      1         2.0   1.146046      1  0.058515\n",
       "       1    0.257063      0         2.0   0.000000      0  0.034970\n",
       "       2    0.227914      1         2.0   0.227914      0  0.034970\n",
       "       3    0.220428      0         2.0   0.000000      0  0.034970\n",
       "1      0   15.198343      1        21.0  15.198343     11  1.579901\n",
       "...              ...    ...         ...        ...    ...       ...\n",
       "199997 0    0.942884      1        -1.0   0.942884      0  0.034970\n",
       "       1    0.337245      0        -1.0   0.000000      0  0.034970\n",
       "       2    0.318488      0        -1.0   0.000000      0  0.034970\n",
       "199998 1    5.222727      1        21.0   5.222727      5  0.394501\n",
       "199999 0    1.596631      1        21.0   1.596631      1  0.058515\n",
       "\n",
       "[777634 rows x 6 columns]"
      ]
     },
     "execution_count": 52,
     "metadata": {},
     "output_type": "execute_result"
    }
   ],
   "source": [
    "df_jet.join(pd.DataFrame(ratio, columns=['weight']), on='w_bin')"
   ]
  },
  {
   "cell_type": "code",
   "execution_count": null,
   "id": "7c406207",
   "metadata": {},
   "outputs": [],
   "source": [
    "d"
   ]
  }
 ],
 "metadata": {
  "kernelspec": {
   "display_name": "Python 3",
   "language": "python",
   "name": "python3"
  },
  "language_info": {
   "codemirror_mode": {
    "name": "ipython",
    "version": 3
   },
   "file_extension": ".py",
   "mimetype": "text/x-python",
   "name": "python",
   "nbconvert_exporter": "python",
   "pygments_lexer": "ipython3",
   "version": "3.9.6"
  }
 },
 "nbformat": 4,
 "nbformat_minor": 5
}
