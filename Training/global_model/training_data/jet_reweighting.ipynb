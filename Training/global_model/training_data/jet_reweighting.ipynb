{
 "cells": [
  {
   "cell_type": "code",
   "execution_count": 43,
   "id": "0023230c",
   "metadata": {},
   "outputs": [],
   "source": [
    "import pandas as pd\n",
    "import matplotlib.pyplot as plt\n",
    "from tqdm import tqdm\n",
    "import tensorflow as tf\n",
    "\n",
    "plt.rcParams['figure.figsize'] = (5,5)\n",
    "plt.rcParams['figure.dpi'] = 150"
   ]
  },
  {
   "cell_type": "code",
   "execution_count": 44,
   "id": "ad9ccd6e",
   "metadata": {},
   "outputs": [],
   "source": [
    "df_gamma = pd.read_csv('/eos/user/p/psimkina/gamma_dataset/records_1', index_col=(0,1))\n",
    "df_jet = pd.read_csv('/eos/user/p/psimkina/gamma_dataset/jet_records_1', index_col=(0,1))"
   ]
  },
  {
   "cell_type": "code",
   "execution_count": 45,
   "id": "571d41eb",
   "metadata": {},
   "outputs": [],
   "source": [
    "df_jet = df_jet[['et_cluster', 'in_sc', 'parton_pdg', 'parton_pt']]\n",
    "df_gamma = df_gamma[['et_cluster', 'in_sc']]"
   ]
  },
  {
   "cell_type": "code",
   "execution_count": 46,
   "id": "4feaf542",
   "metadata": {},
   "outputs": [],
   "source": [
    "df_jet = df_jet[(df_jet['parton_pdg']!=6) & (df_jet['parton_pdg']!=-6)]"
   ]
  },
  {
   "cell_type": "code",
   "execution_count": 47,
   "id": "00c38954",
   "metadata": {},
   "outputs": [],
   "source": [
    "low_energy = df_jet[df_jet['parton_pt'] < 100]\n",
    "high_energy = df_jet[df_jet['parton_pt'] >= 100]"
   ]
  },
  {
   "cell_type": "code",
   "execution_count": 48,
   "id": "d1eda7bd",
   "metadata": {},
   "outputs": [
    {
     "data": {
      "text/html": [
       "<div>\n",
       "<style scoped>\n",
       "    .dataframe tbody tr th:only-of-type {\n",
       "        vertical-align: middle;\n",
       "    }\n",
       "\n",
       "    .dataframe tbody tr th {\n",
       "        vertical-align: top;\n",
       "    }\n",
       "\n",
       "    .dataframe thead th {\n",
       "        text-align: right;\n",
       "    }\n",
       "</style>\n",
       "<table border=\"1\" class=\"dataframe\">\n",
       "  <thead>\n",
       "    <tr style=\"text-align: right;\">\n",
       "      <th></th>\n",
       "      <th></th>\n",
       "      <th>et_cluster</th>\n",
       "      <th>in_sc</th>\n",
       "      <th>parton_pdg</th>\n",
       "      <th>parton_pt</th>\n",
       "    </tr>\n",
       "  </thead>\n",
       "  <tbody>\n",
       "    <tr>\n",
       "      <th rowspan=\"3\" valign=\"top\">27325</th>\n",
       "      <th>0</th>\n",
       "      <td>36.053590</td>\n",
       "      <td>1</td>\n",
       "      <td>21.0</td>\n",
       "      <td>95.509850</td>\n",
       "    </tr>\n",
       "    <tr>\n",
       "      <th>1</th>\n",
       "      <td>1.432054</td>\n",
       "      <td>1</td>\n",
       "      <td>21.0</td>\n",
       "      <td>95.509850</td>\n",
       "    </tr>\n",
       "    <tr>\n",
       "      <th>2</th>\n",
       "      <td>0.400021</td>\n",
       "      <td>1</td>\n",
       "      <td>21.0</td>\n",
       "      <td>95.509850</td>\n",
       "    </tr>\n",
       "    <tr>\n",
       "      <th rowspan=\"2\" valign=\"top\">27328</th>\n",
       "      <th>0</th>\n",
       "      <td>27.083754</td>\n",
       "      <td>1</td>\n",
       "      <td>21.0</td>\n",
       "      <td>95.509850</td>\n",
       "    </tr>\n",
       "    <tr>\n",
       "      <th>1</th>\n",
       "      <td>1.187545</td>\n",
       "      <td>1</td>\n",
       "      <td>21.0</td>\n",
       "      <td>95.509850</td>\n",
       "    </tr>\n",
       "    <tr>\n",
       "      <th>...</th>\n",
       "      <th>...</th>\n",
       "      <td>...</td>\n",
       "      <td>...</td>\n",
       "      <td>...</td>\n",
       "      <td>...</td>\n",
       "    </tr>\n",
       "    <tr>\n",
       "      <th rowspan=\"3\" valign=\"top\">195145</th>\n",
       "      <th>1</th>\n",
       "      <td>4.102782</td>\n",
       "      <td>1</td>\n",
       "      <td>1.0</td>\n",
       "      <td>12.608107</td>\n",
       "    </tr>\n",
       "    <tr>\n",
       "      <th>2</th>\n",
       "      <td>2.830133</td>\n",
       "      <td>1</td>\n",
       "      <td>1.0</td>\n",
       "      <td>12.608107</td>\n",
       "    </tr>\n",
       "    <tr>\n",
       "      <th>3</th>\n",
       "      <td>0.295130</td>\n",
       "      <td>0</td>\n",
       "      <td>1.0</td>\n",
       "      <td>12.608107</td>\n",
       "    </tr>\n",
       "    <tr>\n",
       "      <th rowspan=\"2\" valign=\"top\">195154</th>\n",
       "      <th>0</th>\n",
       "      <td>1.016258</td>\n",
       "      <td>1</td>\n",
       "      <td>-3.0</td>\n",
       "      <td>80.731415</td>\n",
       "    </tr>\n",
       "    <tr>\n",
       "      <th>1</th>\n",
       "      <td>0.377576</td>\n",
       "      <td>0</td>\n",
       "      <td>-3.0</td>\n",
       "      <td>80.731415</td>\n",
       "    </tr>\n",
       "  </tbody>\n",
       "</table>\n",
       "<p>228974 rows × 4 columns</p>\n",
       "</div>"
      ],
      "text/plain": [
       "          et_cluster  in_sc  parton_pdg  parton_pt\n",
       "27325  0   36.053590      1        21.0  95.509850\n",
       "       1    1.432054      1        21.0  95.509850\n",
       "       2    0.400021      1        21.0  95.509850\n",
       "27328  0   27.083754      1        21.0  95.509850\n",
       "       1    1.187545      1        21.0  95.509850\n",
       "...              ...    ...         ...        ...\n",
       "195145 1    4.102782      1         1.0  12.608107\n",
       "       2    2.830133      1         1.0  12.608107\n",
       "       3    0.295130      0         1.0  12.608107\n",
       "195154 0    1.016258      1        -3.0  80.731415\n",
       "       1    0.377576      0        -3.0  80.731415\n",
       "\n",
       "[228974 rows x 4 columns]"
      ]
     },
     "execution_count": 48,
     "metadata": {},
     "output_type": "execute_result"
    }
   ],
   "source": [
    "low_energy"
   ]
  },
  {
   "cell_type": "code",
   "execution_count": 49,
   "id": "02d3db70",
   "metadata": {},
   "outputs": [],
   "source": [
    "df_jet['et_window'] = df_jet['in_sc']*df_jet['et_cluster']\n",
    "df_gamma['et_window'] = df_gamma['in_sc']*df_gamma['et_cluster']"
   ]
  },
  {
   "cell_type": "code",
   "execution_count": 50,
   "id": "a532278d",
   "metadata": {},
   "outputs": [
    {
     "name": "stderr",
     "output_type": "stream",
     "text": [
      "/tmp/ipykernel_1176/1652999877.py:1: SettingWithCopyWarning: \n",
      "A value is trying to be set on a copy of a slice from a DataFrame.\n",
      "Try using .loc[row_indexer,col_indexer] = value instead\n",
      "\n",
      "See the caveats in the documentation: https://pandas.pydata.org/pandas-docs/stable/user_guide/indexing.html#returning-a-view-versus-a-copy\n",
      "  low_energy['et_window'] = low_energy['in_sc']*low_energy['et_cluster']\n",
      "/tmp/ipykernel_1176/1652999877.py:2: SettingWithCopyWarning: \n",
      "A value is trying to be set on a copy of a slice from a DataFrame.\n",
      "Try using .loc[row_indexer,col_indexer] = value instead\n",
      "\n",
      "See the caveats in the documentation: https://pandas.pydata.org/pandas-docs/stable/user_guide/indexing.html#returning-a-view-versus-a-copy\n",
      "  high_energy['et_window'] = high_energy['in_sc']*high_energy['et_cluster']\n"
     ]
    }
   ],
   "source": [
    "low_energy['et_window'] = low_energy['in_sc']*low_energy['et_cluster']\n",
    "high_energy['et_window'] = high_energy['in_sc']*high_energy['et_cluster']\n",
    "\n",
    "df_gamma['et_window'] = df_gamma['in_sc']*df_gamma['et_cluster']"
   ]
  },
  {
   "cell_type": "code",
   "execution_count": 51,
   "id": "248a6802",
   "metadata": {},
   "outputs": [],
   "source": [
    "et_window_low = low_energy.groupby(level=0).sum()\n",
    "et_window_high = high_energy.groupby(level=0).sum()"
   ]
  },
  {
   "cell_type": "code",
   "execution_count": 52,
   "id": "db15a1a8",
   "metadata": {},
   "outputs": [],
   "source": [
    "et_window_low = et_window_low[et_window_low['et_window'] < 100]\n",
    "et_window_high = et_window_high[et_window_high['et_window'] < 100]\n",
    "\n",
    "et_window_gamma = df_gamma.groupby(level=0).sum()\n",
    "et_window_gamma = et_window_gamma[et_window_gamma['et_window'] < 100]"
   ]
  },
  {
   "cell_type": "code",
   "execution_count": 76,
   "id": "d7c036c4",
   "metadata": {},
   "outputs": [
    {
     "data": {
      "text/html": [
       "<div>\n",
       "<style scoped>\n",
       "    .dataframe tbody tr th:only-of-type {\n",
       "        vertical-align: middle;\n",
       "    }\n",
       "\n",
       "    .dataframe tbody tr th {\n",
       "        vertical-align: top;\n",
       "    }\n",
       "\n",
       "    .dataframe thead th {\n",
       "        text-align: right;\n",
       "    }\n",
       "</style>\n",
       "<table border=\"1\" class=\"dataframe\">\n",
       "  <thead>\n",
       "    <tr style=\"text-align: right;\">\n",
       "      <th></th>\n",
       "      <th>et_cluster</th>\n",
       "      <th>in_sc</th>\n",
       "      <th>parton_pdg</th>\n",
       "      <th>parton_pt</th>\n",
       "      <th>et_window</th>\n",
       "    </tr>\n",
       "  </thead>\n",
       "  <tbody>\n",
       "    <tr>\n",
       "      <th>count</th>\n",
       "      <td>41718.000000</td>\n",
       "      <td>41718.000000</td>\n",
       "      <td>41718.000000</td>\n",
       "      <td>41718.000000</td>\n",
       "      <td>41718.000000</td>\n",
       "    </tr>\n",
       "    <tr>\n",
       "      <th>mean</th>\n",
       "      <td>10.625133</td>\n",
       "      <td>2.868546</td>\n",
       "      <td>52.620428</td>\n",
       "      <td>320.745391</td>\n",
       "      <td>9.423057</td>\n",
       "    </tr>\n",
       "    <tr>\n",
       "      <th>std</th>\n",
       "      <td>12.157609</td>\n",
       "      <td>2.307835</td>\n",
       "      <td>79.131988</td>\n",
       "      <td>275.494385</td>\n",
       "      <td>12.152727</td>\n",
       "    </tr>\n",
       "    <tr>\n",
       "      <th>min</th>\n",
       "      <td>0.776870</td>\n",
       "      <td>1.000000</td>\n",
       "      <td>-135.000000</td>\n",
       "      <td>2.173380</td>\n",
       "      <td>0.774213</td>\n",
       "    </tr>\n",
       "    <tr>\n",
       "      <th>25%</th>\n",
       "      <td>2.938760</td>\n",
       "      <td>1.000000</td>\n",
       "      <td>-4.000000</td>\n",
       "      <td>116.717410</td>\n",
       "      <td>1.737859</td>\n",
       "    </tr>\n",
       "    <tr>\n",
       "      <th>50%</th>\n",
       "      <td>5.585174</td>\n",
       "      <td>2.000000</td>\n",
       "      <td>21.000000</td>\n",
       "      <td>245.144348</td>\n",
       "      <td>4.056758</td>\n",
       "    </tr>\n",
       "    <tr>\n",
       "      <th>75%</th>\n",
       "      <td>13.465043</td>\n",
       "      <td>4.000000</td>\n",
       "      <td>84.000000</td>\n",
       "      <td>443.122237</td>\n",
       "      <td>12.136356</td>\n",
       "    </tr>\n",
       "    <tr>\n",
       "      <th>max</th>\n",
       "      <td>100.076315</td>\n",
       "      <td>22.000000</td>\n",
       "      <td>609.000000</td>\n",
       "      <td>3078.151098</td>\n",
       "      <td>99.800921</td>\n",
       "    </tr>\n",
       "  </tbody>\n",
       "</table>\n",
       "</div>"
      ],
      "text/plain": [
       "         et_cluster         in_sc    parton_pdg     parton_pt     et_window\n",
       "count  41718.000000  41718.000000  41718.000000  41718.000000  41718.000000\n",
       "mean      10.625133      2.868546     52.620428    320.745391      9.423057\n",
       "std       12.157609      2.307835     79.131988    275.494385     12.152727\n",
       "min        0.776870      1.000000   -135.000000      2.173380      0.774213\n",
       "25%        2.938760      1.000000     -4.000000    116.717410      1.737859\n",
       "50%        5.585174      2.000000     21.000000    245.144348      4.056758\n",
       "75%       13.465043      4.000000     84.000000    443.122237     12.136356\n",
       "max      100.076315     22.000000    609.000000   3078.151098     99.800921"
      ]
     },
     "execution_count": 76,
     "metadata": {},
     "output_type": "execute_result"
    }
   ],
   "source": [
    "et_window_low.describe()"
   ]
  },
  {
   "cell_type": "code",
   "execution_count": 77,
   "id": "3e5f0299",
   "metadata": {},
   "outputs": [
    {
     "data": {
      "text/html": [
       "<div>\n",
       "<style scoped>\n",
       "    .dataframe tbody tr th:only-of-type {\n",
       "        vertical-align: middle;\n",
       "    }\n",
       "\n",
       "    .dataframe tbody tr th {\n",
       "        vertical-align: top;\n",
       "    }\n",
       "\n",
       "    .dataframe thead th {\n",
       "        text-align: right;\n",
       "    }\n",
       "</style>\n",
       "<table border=\"1\" class=\"dataframe\">\n",
       "  <thead>\n",
       "    <tr style=\"text-align: right;\">\n",
       "      <th></th>\n",
       "      <th>et_cluster</th>\n",
       "      <th>in_sc</th>\n",
       "      <th>parton_pdg</th>\n",
       "      <th>parton_pt</th>\n",
       "      <th>et_window</th>\n",
       "      <th>w_bin</th>\n",
       "      <th>weight</th>\n",
       "    </tr>\n",
       "  </thead>\n",
       "  <tbody>\n",
       "    <tr>\n",
       "      <th>count</th>\n",
       "      <td>60610.000000</td>\n",
       "      <td>60610.000000</td>\n",
       "      <td>60610.000000</td>\n",
       "      <td>60610.000000</td>\n",
       "      <td>60610.000000</td>\n",
       "      <td>60610.000000</td>\n",
       "      <td>60610.000000</td>\n",
       "    </tr>\n",
       "    <tr>\n",
       "      <th>mean</th>\n",
       "      <td>23.214395</td>\n",
       "      <td>3.499423</td>\n",
       "      <td>74.737898</td>\n",
       "      <td>1704.071451</td>\n",
       "      <td>22.072756</td>\n",
       "      <td>8.113628</td>\n",
       "      <td>1.000000</td>\n",
       "    </tr>\n",
       "    <tr>\n",
       "      <th>std</th>\n",
       "      <td>29.932437</td>\n",
       "      <td>3.930379</td>\n",
       "      <td>106.864027</td>\n",
       "      <td>1635.253972</td>\n",
       "      <td>29.981549</td>\n",
       "      <td>8.744473</td>\n",
       "      <td>1.113549</td>\n",
       "    </tr>\n",
       "    <tr>\n",
       "      <th>min</th>\n",
       "      <td>0.773874</td>\n",
       "      <td>1.000000</td>\n",
       "      <td>-175.000000</td>\n",
       "      <td>100.020620</td>\n",
       "      <td>0.773874</td>\n",
       "      <td>0.000000</td>\n",
       "      <td>0.031471</td>\n",
       "    </tr>\n",
       "    <tr>\n",
       "      <th>25%</th>\n",
       "      <td>2.576090</td>\n",
       "      <td>1.000000</td>\n",
       "      <td>4.000000</td>\n",
       "      <td>576.604467</td>\n",
       "      <td>1.480733</td>\n",
       "      <td>1.000000</td>\n",
       "      <td>0.054857</td>\n",
       "    </tr>\n",
       "    <tr>\n",
       "      <th>50%</th>\n",
       "      <td>5.088733</td>\n",
       "      <td>2.000000</td>\n",
       "      <td>42.000000</td>\n",
       "      <td>1187.860500</td>\n",
       "      <td>3.367277</td>\n",
       "      <td>3.000000</td>\n",
       "      <td>0.218429</td>\n",
       "    </tr>\n",
       "    <tr>\n",
       "      <th>75%</th>\n",
       "      <td>42.124234</td>\n",
       "      <td>4.000000</td>\n",
       "      <td>105.000000</td>\n",
       "      <td>2252.894030</td>\n",
       "      <td>41.164161</td>\n",
       "      <td>16.000000</td>\n",
       "      <td>2.275928</td>\n",
       "    </tr>\n",
       "    <tr>\n",
       "      <th>max</th>\n",
       "      <td>131.742038</td>\n",
       "      <td>33.000000</td>\n",
       "      <td>861.000000</td>\n",
       "      <td>15637.154240</td>\n",
       "      <td>99.998790</td>\n",
       "      <td>27.000000</td>\n",
       "      <td>3.108320</td>\n",
       "    </tr>\n",
       "  </tbody>\n",
       "</table>\n",
       "</div>"
      ],
      "text/plain": [
       "         et_cluster         in_sc    parton_pdg     parton_pt     et_window  \\\n",
       "count  60610.000000  60610.000000  60610.000000  60610.000000  60610.000000   \n",
       "mean      23.214395      3.499423     74.737898   1704.071451     22.072756   \n",
       "std       29.932437      3.930379    106.864027   1635.253972     29.981549   \n",
       "min        0.773874      1.000000   -175.000000    100.020620      0.773874   \n",
       "25%        2.576090      1.000000      4.000000    576.604467      1.480733   \n",
       "50%        5.088733      2.000000     42.000000   1187.860500      3.367277   \n",
       "75%       42.124234      4.000000    105.000000   2252.894030     41.164161   \n",
       "max      131.742038     33.000000    861.000000  15637.154240     99.998790   \n",
       "\n",
       "              w_bin        weight  \n",
       "count  60610.000000  60610.000000  \n",
       "mean       8.113628      1.000000  \n",
       "std        8.744473      1.113549  \n",
       "min        0.000000      0.031471  \n",
       "25%        1.000000      0.054857  \n",
       "50%        3.000000      0.218429  \n",
       "75%       16.000000      2.275928  \n",
       "max       27.000000      3.108320  "
      ]
     },
     "execution_count": 77,
     "metadata": {},
     "output_type": "execute_result"
    }
   ],
   "source": [
    "et_window_high.describe()"
   ]
  },
  {
   "cell_type": "code",
   "execution_count": 53,
   "id": "00aa99f8",
   "metadata": {},
   "outputs": [],
   "source": [
    "import numpy as np \n",
    "bins = [0,1,2,3,4,5,6,7,8,9,10,15,20,25,30,35,40,45,50,55,60,65,70,75,80,85,90,95,100, np.inf]"
   ]
  },
  {
   "cell_type": "code",
   "execution_count": 54,
   "id": "af4dcb63",
   "metadata": {},
   "outputs": [
    {
     "data": {
      "image/png": "[encoded data removed]",
      "text/plain": [
       "<Figure size 750x750 with 1 Axes>"
      ]
     },
     "metadata": {
      "needs_background": "light"
     },
     "output_type": "display_data"
    }
   ],
   "source": [
    "values_jets_high, bins, _ = plt.hist(et_window_high['et_window'], histtype='step',  bins=bins, density=True, label='high')\n",
    "values_jets_low, bins, _ = plt.hist(et_window_low['et_window'], histtype='step',  bins=bins, density=True, label='low')\n",
    "values_gamma, bins, _ = plt.hist(et_window_gamma['et_window'], histtype='step',  bins=bins, density=True)\n",
    "plt.legend()\n",
    "plt.grid()"
   ]
  },
  {
   "cell_type": "code",
   "execution_count": 55,
   "id": "e98b0f71",
   "metadata": {},
   "outputs": [
    {
     "name": "stderr",
     "output_type": "stream",
     "text": [
      "/tmp/ipykernel_1176/1907580068.py:1: RuntimeWarning: invalid value encountered in true_divide\n",
      "  ratio_low = values_gamma/values_jets_low\n",
      "/tmp/ipykernel_1176/1907580068.py:2: RuntimeWarning: invalid value encountered in true_divide\n",
      "  ratio_high = values_gamma/values_jets_high\n"
     ]
    },
    {
     "data": {
      "text/plain": [
       "((29,), (30,))"
      ]
     },
     "execution_count": 55,
     "metadata": {},
     "output_type": "execute_result"
    }
   ],
   "source": [
    "ratio_low = values_gamma/values_jets_low\n",
    "ratio_high = values_gamma/values_jets_high\n",
    "ratio_low.shape, bins.shape"
   ]
  },
  {
   "cell_type": "code",
   "execution_count": 56,
   "id": "6deaba9e",
   "metadata": {},
   "outputs": [
    {
     "data": {
      "text/plain": [
       "array([  0.,   1.,   2.,   3.,   4.,   5.,   6.,   7.,   8.,   9.,  10.,\n",
       "        15.,  20.,  25.,  30.,  35.,  40.,  45.,  50.,  55.,  60.,  65.,\n",
       "        70.,  75.,  80.,  85.,  90.,  95., 100.,  inf])"
      ]
     },
     "execution_count": 56,
     "metadata": {},
     "output_type": "execute_result"
    }
   ],
   "source": [
    "bins"
   ]
  },
  {
   "cell_type": "code",
   "execution_count": 57,
   "id": "e8be7c25",
   "metadata": {},
   "outputs": [],
   "source": [
    "d_low = {'start_bin': bins[:-1],\n",
    "    'end_bin': bins[1:], \n",
    "    'weight': ratio_low}\n",
    "\n",
    "d_high = {'start_bin': bins[:-1],\n",
    "    'end_bin': bins[1:], \n",
    "    'weight': ratio_high}"
   ]
  },
  {
   "cell_type": "code",
   "execution_count": 61,
   "id": "367c3733",
   "metadata": {},
   "outputs": [
    {
     "data": {
      "text/plain": [
       "{'start_bin': array([  0.,   1.,   2.,   3.,   4.,   5.,   6.,   7.,   8.,   9.,  10.,\n",
       "         15.,  20.,  25.,  30.,  35.,  40.,  45.,  50.,  55.,  60.,  65.,\n",
       "         70.,  75.,  80.,  85.,  90.,  95., 100.]),\n",
       " 'end_bin': array([  1.,   2.,   3.,   4.,   5.,   6.,   7.,   8.,   9.,  10.,  15.,\n",
       "         20.,  25.,  30.,  35.,  40.,  45.,  50.,  55.,  60.,  65.,  70.,\n",
       "         75.,  80.,  85.,  90.,  95., 100.,  inf]),\n",
       " 'weight': array([0.0314705 , 0.05485672, 0.11535608, 0.21842892, 0.38306947,\n",
       "        0.58224338, 0.77600143, 1.07903954, 1.42135363, 1.40687245,\n",
       "        2.20147109, 3.02564372, 3.10831973, 2.99860867, 2.84752878,\n",
       "        2.52292966, 2.37011316, 2.3797175 , 2.3697807 , 2.26116403,\n",
       "        2.32202178, 2.27592798, 2.25811728, 2.34988754, 2.33706357,\n",
       "        2.31331262, 2.13560146, 1.10934646,        nan])}"
      ]
     },
     "execution_count": 61,
     "metadata": {},
     "output_type": "execute_result"
    }
   ],
   "source": [
    "d_high"
   ]
  },
  {
   "cell_type": "code",
   "execution_count": 58,
   "id": "38dc5f58",
   "metadata": {},
   "outputs": [],
   "source": [
    "df_weights_low = pd.DataFrame(data=d_low)\n",
    "df_weights_high = pd.DataFrame(data=d_high)"
   ]
  },
  {
   "cell_type": "code",
   "execution_count": 59,
   "id": "a2858860",
   "metadata": {},
   "outputs": [],
   "source": [
    "et_window_high['w_bin'] = np.digitize(et_window_high.et_window, bins)-1"
   ]
  },
  {
   "cell_type": "code",
   "execution_count": 64,
   "id": "c439d491",
   "metadata": {},
   "outputs": [],
   "source": [
    "et_window_high = et_window_high.join(pd.DataFrame(ratio_high, columns=['weight']), on='w_bin')"
   ]
  },
  {
   "cell_type": "code",
   "execution_count": 65,
   "id": "1a00eb7b",
   "metadata": {},
   "outputs": [
    {
     "data": {
      "text/html": [
       "<div>\n",
       "<style scoped>\n",
       "    .dataframe tbody tr th:only-of-type {\n",
       "        vertical-align: middle;\n",
       "    }\n",
       "\n",
       "    .dataframe tbody tr th {\n",
       "        vertical-align: top;\n",
       "    }\n",
       "\n",
       "    .dataframe thead th {\n",
       "        text-align: right;\n",
       "    }\n",
       "</style>\n",
       "<table border=\"1\" class=\"dataframe\">\n",
       "  <thead>\n",
       "    <tr style=\"text-align: right;\">\n",
       "      <th></th>\n",
       "      <th>et_cluster</th>\n",
       "      <th>in_sc</th>\n",
       "      <th>parton_pdg</th>\n",
       "      <th>parton_pt</th>\n",
       "      <th>et_window</th>\n",
       "      <th>w_bin</th>\n",
       "      <th>weight</th>\n",
       "    </tr>\n",
       "  </thead>\n",
       "  <tbody>\n",
       "    <tr>\n",
       "      <th>0</th>\n",
       "      <td>1.851451</td>\n",
       "      <td>2</td>\n",
       "      <td>8.0</td>\n",
       "      <td>1427.49132</td>\n",
       "      <td>1.373960</td>\n",
       "      <td>1</td>\n",
       "      <td>0.054857</td>\n",
       "    </tr>\n",
       "    <tr>\n",
       "      <th>1</th>\n",
       "      <td>51.827144</td>\n",
       "      <td>14</td>\n",
       "      <td>399.0</td>\n",
       "      <td>8801.11673</td>\n",
       "      <td>50.553132</td>\n",
       "      <td>18</td>\n",
       "      <td>2.369781</td>\n",
       "    </tr>\n",
       "    <tr>\n",
       "      <th>2</th>\n",
       "      <td>16.049390</td>\n",
       "      <td>8</td>\n",
       "      <td>273.0</td>\n",
       "      <td>4049.60478</td>\n",
       "      <td>13.604461</td>\n",
       "      <td>10</td>\n",
       "      <td>2.201471</td>\n",
       "    </tr>\n",
       "    <tr>\n",
       "      <th>3</th>\n",
       "      <td>1.023366</td>\n",
       "      <td>1</td>\n",
       "      <td>3.0</td>\n",
       "      <td>261.45830</td>\n",
       "      <td>1.023366</td>\n",
       "      <td>1</td>\n",
       "      <td>0.054857</td>\n",
       "    </tr>\n",
       "    <tr>\n",
       "      <th>4</th>\n",
       "      <td>4.076165</td>\n",
       "      <td>1</td>\n",
       "      <td>63.0</td>\n",
       "      <td>1389.65001</td>\n",
       "      <td>1.474747</td>\n",
       "      <td>1</td>\n",
       "      <td>0.054857</td>\n",
       "    </tr>\n",
       "    <tr>\n",
       "      <th>...</th>\n",
       "      <td>...</td>\n",
       "      <td>...</td>\n",
       "      <td>...</td>\n",
       "      <td>...</td>\n",
       "      <td>...</td>\n",
       "      <td>...</td>\n",
       "      <td>...</td>\n",
       "    </tr>\n",
       "    <tr>\n",
       "      <th>199992</th>\n",
       "      <td>3.414468</td>\n",
       "      <td>3</td>\n",
       "      <td>168.0</td>\n",
       "      <td>2300.36352</td>\n",
       "      <td>2.124926</td>\n",
       "      <td>2</td>\n",
       "      <td>0.115356</td>\n",
       "    </tr>\n",
       "    <tr>\n",
       "      <th>199993</th>\n",
       "      <td>3.422813</td>\n",
       "      <td>1</td>\n",
       "      <td>21.0</td>\n",
       "      <td>178.77808</td>\n",
       "      <td>3.422813</td>\n",
       "      <td>3</td>\n",
       "      <td>0.218429</td>\n",
       "    </tr>\n",
       "    <tr>\n",
       "      <th>199995</th>\n",
       "      <td>0.825300</td>\n",
       "      <td>1</td>\n",
       "      <td>21.0</td>\n",
       "      <td>287.54544</td>\n",
       "      <td>0.825300</td>\n",
       "      <td>0</td>\n",
       "      <td>0.031471</td>\n",
       "    </tr>\n",
       "    <tr>\n",
       "      <th>199997</th>\n",
       "      <td>1.598616</td>\n",
       "      <td>1</td>\n",
       "      <td>-3.0</td>\n",
       "      <td>355.11861</td>\n",
       "      <td>0.942884</td>\n",
       "      <td>0</td>\n",
       "      <td>0.031471</td>\n",
       "    </tr>\n",
       "    <tr>\n",
       "      <th>199999</th>\n",
       "      <td>1.596631</td>\n",
       "      <td>1</td>\n",
       "      <td>21.0</td>\n",
       "      <td>178.77808</td>\n",
       "      <td>1.596631</td>\n",
       "      <td>1</td>\n",
       "      <td>0.054857</td>\n",
       "    </tr>\n",
       "  </tbody>\n",
       "</table>\n",
       "<p>60610 rows × 7 columns</p>\n",
       "</div>"
      ],
      "text/plain": [
       "        et_cluster  in_sc  parton_pdg   parton_pt  et_window  w_bin    weight\n",
       "0         1.851451      2         8.0  1427.49132   1.373960      1  0.054857\n",
       "1        51.827144     14       399.0  8801.11673  50.553132     18  2.369781\n",
       "2        16.049390      8       273.0  4049.60478  13.604461     10  2.201471\n",
       "3         1.023366      1         3.0   261.45830   1.023366      1  0.054857\n",
       "4         4.076165      1        63.0  1389.65001   1.474747      1  0.054857\n",
       "...            ...    ...         ...         ...        ...    ...       ...\n",
       "199992    3.414468      3       168.0  2300.36352   2.124926      2  0.115356\n",
       "199993    3.422813      1        21.0   178.77808   3.422813      3  0.218429\n",
       "199995    0.825300      1        21.0   287.54544   0.825300      0  0.031471\n",
       "199997    1.598616      1        -3.0   355.11861   0.942884      0  0.031471\n",
       "199999    1.596631      1        21.0   178.77808   1.596631      1  0.054857\n",
       "\n",
       "[60610 rows x 7 columns]"
      ]
     },
     "execution_count": 65,
     "metadata": {},
     "output_type": "execute_result"
    }
   ],
   "source": [
    "et_window_high"
   ]
  },
  {
   "cell_type": "code",
   "execution_count": 70,
   "id": "758b28c6",
   "metadata": {},
   "outputs": [
    {
     "data": {
      "image/png": "[encoded data removed]",
      "text/plain": [
       "<Figure size 750x750 with 1 Axes>"
      ]
     },
     "metadata": {
      "needs_background": "light"
     },
     "output_type": "display_data"
    }
   ],
   "source": [
    "values_jets_high, bins, _ = plt.hist(et_window_high['et_window'], histtype='step',  bins=bins, weights=et_window_high['weight'], density=True, label='high')\n",
    "#values_jets_low, bins, _ = plt.hist(et_window_low['et_window'], histtype='step',  bins=bins, density=True, label='low')\n",
    "values_gamma, bins, _ = plt.hist(et_window_gamma['et_window'], histtype='step',  bins=bins, density=True, label='gamma')\n",
    "plt.legend()\n",
    "plt.grid()"
   ]
  },
  {
   "cell_type": "code",
   "execution_count": 73,
   "id": "8c253f89",
   "metadata": {},
   "outputs": [
    {
     "data": {
      "text/plain": [
       "(0.0, 10.0)"
      ]
     },
     "execution_count": 73,
     "metadata": {},
     "output_type": "execute_result"
    },
    {
     "data": {
      "image/png": "[encoded data removed]",
      "text/plain": [
       "<Figure size 750x750 with 1 Axes>"
      ]
     },
     "metadata": {
      "needs_background": "light"
     },
     "output_type": "display_data"
    }
   ],
   "source": [
    "plt.scatter(bins[:-1], ratio_low) \n",
    "plt.scatter(bins[:-1], ratio_high)\n",
    "plt.ylim(0,10)"
   ]
  },
  {
   "cell_type": "code",
   "execution_count": null,
   "id": "f77277f6",
   "metadata": {},
   "outputs": [],
   "source": []
  },
  {
   "cell_type": "code",
   "execution_count": null,
   "id": "2cf3c0d7",
   "metadata": {},
   "outputs": [],
   "source": []
  },
  {
   "cell_type": "code",
   "execution_count": null,
   "id": "604ad4ca",
   "metadata": {},
   "outputs": [],
   "source": []
  },
  {
   "cell_type": "code",
   "execution_count": 9,
   "id": "0dede5bf",
   "metadata": {},
   "outputs": [],
   "source": [
    "import numpy as np \n",
    "bins = [0,1,2,3,4,5,6,7,8,9,10,15,20,25,30,35,40,45,50,55,60,65,70,75,80,85,90,95,100, np.inf]"
   ]
  },
  {
   "cell_type": "code",
   "execution_count": 10,
   "id": "6a6245af",
   "metadata": {},
   "outputs": [
    {
     "data": {
      "image/png": "[encoded data removed]",
      "text/plain": [
       "<Figure size 750x750 with 1 Axes>"
      ]
     },
     "metadata": {
      "needs_background": "light"
     },
     "output_type": "display_data"
    }
   ],
   "source": [
    "values_jets, bins, _ = plt.hist(et_window_jet['et_window'], histtype='step',  bins=bins, density=True)\n",
    "values_gamma, bins, _ = plt.hist(et_window_gamma['et_window'], histtype='step',  bins=bins, density=True)\n",
    "plt.grid()"
   ]
  },
  {
   "cell_type": "code",
   "execution_count": 14,
   "id": "57beba28",
   "metadata": {},
   "outputs": [
    {
     "name": "stderr",
     "output_type": "stream",
     "text": [
      "/tmp/ipykernel_785/1267314534.py:1: RuntimeWarning: invalid value encountered in true_divide\n",
      "  ratio = values_gamma/values_jets\n"
     ]
    },
    {
     "data": {
      "text/plain": [
       "((29,), (30,))"
      ]
     },
     "execution_count": 14,
     "metadata": {},
     "output_type": "execute_result"
    }
   ],
   "source": [
    "ratio = values_gamma/values_jets\n",
    "ratio.shape, bins.shape"
   ]
  },
  {
   "cell_type": "code",
   "execution_count": 15,
   "id": "37a3cdb1",
   "metadata": {},
   "outputs": [
    {
     "data": {
      "text/plain": [
       "<matplotlib.collections.PathCollection at 0x7fb711711850>"
      ]
     },
     "execution_count": 15,
     "metadata": {},
     "output_type": "execute_result"
    },
    {
     "data": {
      "image/png": "[encoded data removed]",
      "text/plain": [
       "<Figure size 750x750 with 1 Axes>"
      ]
     },
     "metadata": {
      "needs_background": "light"
     },
     "output_type": "display_data"
    }
   ],
   "source": [
    "plt.scatter(bins[:-1], ratio) "
   ]
  },
  {
   "cell_type": "code",
   "execution_count": 17,
   "id": "ec18771e",
   "metadata": {},
   "outputs": [
    {
     "data": {
      "text/plain": [
       "((102328,), (29,))"
      ]
     },
     "execution_count": 17,
     "metadata": {},
     "output_type": "execute_result"
    }
   ],
   "source": [
    "et_window_jet['et_window'].shape, ratio.shape"
   ]
  },
  {
   "cell_type": "code",
   "execution_count": 18,
   "id": "cf69b349",
   "metadata": {},
   "outputs": [
    {
     "data": {
      "image/png": "[encoded data removed]",
      "text/plain": [
       "<Figure size 750x750 with 1 Axes>"
      ]
     },
     "metadata": {
      "needs_background": "light"
     },
     "output_type": "display_data"
    }
   ],
   "source": [
    "values_jets, bins, _ = plt.hist(et_window_jet['et_window'], histtype='step',  bins=bins, density=True)\n",
    "values_gamma, bins, _ = plt.hist(et_window_gamma['et_window'], histtype='step',  bins=bins, density=True)\n",
    "plt.grid()"
   ]
  },
  {
   "cell_type": "code",
   "execution_count": 162,
   "id": "fbbbad53",
   "metadata": {},
   "outputs": [],
   "source": [
    "d = {'start_bin': bins[:-1],\n",
    "    'end_bin': bins[1:], \n",
    "    'weight': ratio}"
   ]
  },
  {
   "cell_type": "code",
   "execution_count": 163,
   "id": "5463a8e1",
   "metadata": {},
   "outputs": [],
   "source": [
    "df_weights = pd.DataFrame(data=d)"
   ]
  },
  {
   "cell_type": "code",
   "execution_count": 164,
   "id": "92cd2033",
   "metadata": {},
   "outputs": [],
   "source": [
    "import numpy as np\n",
    "et_window_jet['w_bin'] = np.digitize(et_window_jet.et_window, bins)-1"
   ]
  },
  {
   "cell_type": "code",
   "execution_count": 165,
   "id": "bcf62cf9",
   "metadata": {},
   "outputs": [
    {
     "data": {
      "text/plain": [
       "array([ 1, 18, 10, ...,  0,  0,  1])"
      ]
     },
     "execution_count": 165,
     "metadata": {},
     "output_type": "execute_result"
    }
   ],
   "source": [
    "et_window_jet['w_bin'].values"
   ]
  },
  {
   "cell_type": "code",
   "execution_count": 169,
   "id": "d26fa37c",
   "metadata": {},
   "outputs": [],
   "source": [
    "df_weights.weight.loc[28] = 0"
   ]
  },
  {
   "cell_type": "code",
   "execution_count": 200,
   "id": "20b930c6",
   "metadata": {},
   "outputs": [],
   "source": [
    "bins = df_weights.start_bin.values"
   ]
  },
  {
   "cell_type": "code",
   "execution_count": 191,
   "id": "858abc8e",
   "metadata": {},
   "outputs": [],
   "source": []
  },
  {
   "cell_type": "code",
   "execution_count": 108,
   "id": "175f044d",
   "metadata": {},
   "outputs": [],
   "source": [
    "bins = df_weights['end_bin'].values "
   ]
  },
  {
   "cell_type": "code",
   "execution_count": 202,
   "id": "96cd04b2",
   "metadata": {},
   "outputs": [],
   "source": [
    "my_values = [1.2, 4.1, 12.0]\n"
   ]
  },
  {
   "cell_type": "code",
   "execution_count": 203,
   "id": "f138f917",
   "metadata": {},
   "outputs": [
    {
     "data": {
      "text/plain": [
       "array([  0.,   1.,   2.,   3.,   4.,   5.,   6.,   7.,   8.,   9.,  10.,\n",
       "        15.,  20.,  25.,  30.,  35.,  40.,  45.,  50.,  55.,  60.,  65.,\n",
       "        70.,  75.,  80.,  85.,  90.,  95., 100.], dtype=float32)"
      ]
     },
     "execution_count": 203,
     "metadata": {},
     "output_type": "execute_result"
    }
   ],
   "source": [
    "bins"
   ]
  },
  {
   "cell_type": "code",
   "execution_count": 201,
   "id": "d404faf5",
   "metadata": {},
   "outputs": [],
   "source": [
    "bins = bins.astype(np.float32)"
   ]
  },
  {
   "cell_type": "code",
   "execution_count": 74,
   "id": "e759a03f",
   "metadata": {},
   "outputs": [
    {
     "data": {
      "text/html": [
       "<div>\n",
       "<style scoped>\n",
       "    .dataframe tbody tr th:only-of-type {\n",
       "        vertical-align: middle;\n",
       "    }\n",
       "\n",
       "    .dataframe tbody tr th {\n",
       "        vertical-align: top;\n",
       "    }\n",
       "\n",
       "    .dataframe thead th {\n",
       "        text-align: right;\n",
       "    }\n",
       "</style>\n",
       "<table border=\"1\" class=\"dataframe\">\n",
       "  <thead>\n",
       "    <tr style=\"text-align: right;\">\n",
       "      <th></th>\n",
       "      <th>weight</th>\n",
       "    </tr>\n",
       "  </thead>\n",
       "  <tbody>\n",
       "    <tr>\n",
       "      <th>1</th>\n",
       "      <td>0.058515</td>\n",
       "    </tr>\n",
       "    <tr>\n",
       "      <th>18</th>\n",
       "      <td>3.341666</td>\n",
       "    </tr>\n",
       "    <tr>\n",
       "      <th>10</th>\n",
       "      <td>1.161105</td>\n",
       "    </tr>\n",
       "    <tr>\n",
       "      <th>1</th>\n",
       "      <td>0.058515</td>\n",
       "    </tr>\n",
       "    <tr>\n",
       "      <th>1</th>\n",
       "      <td>0.058515</td>\n",
       "    </tr>\n",
       "    <tr>\n",
       "      <th>...</th>\n",
       "      <td>...</td>\n",
       "    </tr>\n",
       "    <tr>\n",
       "      <th>2</th>\n",
       "      <td>0.112957</td>\n",
       "    </tr>\n",
       "    <tr>\n",
       "      <th>3</th>\n",
       "      <td>0.190385</td>\n",
       "    </tr>\n",
       "    <tr>\n",
       "      <th>0</th>\n",
       "      <td>0.034970</td>\n",
       "    </tr>\n",
       "    <tr>\n",
       "      <th>0</th>\n",
       "      <td>0.034970</td>\n",
       "    </tr>\n",
       "    <tr>\n",
       "      <th>1</th>\n",
       "      <td>0.058515</td>\n",
       "    </tr>\n",
       "  </tbody>\n",
       "</table>\n",
       "<p>102328 rows × 1 columns</p>\n",
       "</div>"
      ],
      "text/plain": [
       "      weight\n",
       "1   0.058515\n",
       "18  3.341666\n",
       "10  1.161105\n",
       "1   0.058515\n",
       "1   0.058515\n",
       "..       ...\n",
       "2   0.112957\n",
       "3   0.190385\n",
       "0   0.034970\n",
       "0   0.034970\n",
       "1   0.058515\n",
       "\n",
       "[102328 rows x 1 columns]"
      ]
     },
     "execution_count": 74,
     "metadata": {},
     "output_type": "execute_result"
    }
   ],
   "source": [
    "df_weights.iloc[et_window_jet['w_bin']]"
   ]
  },
  {
   "cell_type": "code",
   "execution_count": 48,
   "id": "776973f5",
   "metadata": {},
   "outputs": [
    {
     "data": {
      "text/html": [
       "<div>\n",
       "<style scoped>\n",
       "    .dataframe tbody tr th:only-of-type {\n",
       "        vertical-align: middle;\n",
       "    }\n",
       "\n",
       "    .dataframe tbody tr th {\n",
       "        vertical-align: top;\n",
       "    }\n",
       "\n",
       "    .dataframe thead th {\n",
       "        text-align: right;\n",
       "    }\n",
       "</style>\n",
       "<table border=\"1\" class=\"dataframe\">\n",
       "  <thead>\n",
       "    <tr style=\"text-align: right;\">\n",
       "      <th></th>\n",
       "      <th>start_bin</th>\n",
       "      <th>end_bin</th>\n",
       "      <th>weight</th>\n",
       "    </tr>\n",
       "  </thead>\n",
       "  <tbody>\n",
       "    <tr>\n",
       "      <th>0</th>\n",
       "      <td>0</td>\n",
       "      <td>1</td>\n",
       "      <td>0.034970</td>\n",
       "    </tr>\n",
       "    <tr>\n",
       "      <th>1</th>\n",
       "      <td>1</td>\n",
       "      <td>2</td>\n",
       "      <td>0.058515</td>\n",
       "    </tr>\n",
       "    <tr>\n",
       "      <th>2</th>\n",
       "      <td>2</td>\n",
       "      <td>3</td>\n",
       "      <td>0.112957</td>\n",
       "    </tr>\n",
       "    <tr>\n",
       "      <th>3</th>\n",
       "      <td>3</td>\n",
       "      <td>4</td>\n",
       "      <td>0.190385</td>\n",
       "    </tr>\n",
       "    <tr>\n",
       "      <th>4</th>\n",
       "      <td>4</td>\n",
       "      <td>5</td>\n",
       "      <td>0.290618</td>\n",
       "    </tr>\n",
       "    <tr>\n",
       "      <th>5</th>\n",
       "      <td>5</td>\n",
       "      <td>6</td>\n",
       "      <td>0.394501</td>\n",
       "    </tr>\n",
       "    <tr>\n",
       "      <th>6</th>\n",
       "      <td>6</td>\n",
       "      <td>7</td>\n",
       "      <td>0.503767</td>\n",
       "    </tr>\n",
       "    <tr>\n",
       "      <th>7</th>\n",
       "      <td>7</td>\n",
       "      <td>8</td>\n",
       "      <td>0.623328</td>\n",
       "    </tr>\n",
       "    <tr>\n",
       "      <th>8</th>\n",
       "      <td>8</td>\n",
       "      <td>9</td>\n",
       "      <td>0.796345</td>\n",
       "    </tr>\n",
       "    <tr>\n",
       "      <th>9</th>\n",
       "      <td>9</td>\n",
       "      <td>10</td>\n",
       "      <td>0.835133</td>\n",
       "    </tr>\n",
       "    <tr>\n",
       "      <th>10</th>\n",
       "      <td>10</td>\n",
       "      <td>15</td>\n",
       "      <td>1.161105</td>\n",
       "    </tr>\n",
       "    <tr>\n",
       "      <th>11</th>\n",
       "      <td>15</td>\n",
       "      <td>20</td>\n",
       "      <td>1.579901</td>\n",
       "    </tr>\n",
       "    <tr>\n",
       "      <th>12</th>\n",
       "      <td>20</td>\n",
       "      <td>25</td>\n",
       "      <td>1.955131</td>\n",
       "    </tr>\n",
       "    <tr>\n",
       "      <th>13</th>\n",
       "      <td>25</td>\n",
       "      <td>30</td>\n",
       "      <td>2.244599</td>\n",
       "    </tr>\n",
       "    <tr>\n",
       "      <th>14</th>\n",
       "      <td>30</td>\n",
       "      <td>35</td>\n",
       "      <td>2.627623</td>\n",
       "    </tr>\n",
       "    <tr>\n",
       "      <th>15</th>\n",
       "      <td>35</td>\n",
       "      <td>40</td>\n",
       "      <td>2.747834</td>\n",
       "    </tr>\n",
       "    <tr>\n",
       "      <th>16</th>\n",
       "      <td>40</td>\n",
       "      <td>45</td>\n",
       "      <td>2.861299</td>\n",
       "    </tr>\n",
       "    <tr>\n",
       "      <th>17</th>\n",
       "      <td>45</td>\n",
       "      <td>50</td>\n",
       "      <td>3.173611</td>\n",
       "    </tr>\n",
       "    <tr>\n",
       "      <th>18</th>\n",
       "      <td>50</td>\n",
       "      <td>55</td>\n",
       "      <td>3.341666</td>\n",
       "    </tr>\n",
       "    <tr>\n",
       "      <th>19</th>\n",
       "      <td>55</td>\n",
       "      <td>60</td>\n",
       "      <td>3.455500</td>\n",
       "    </tr>\n",
       "    <tr>\n",
       "      <th>20</th>\n",
       "      <td>60</td>\n",
       "      <td>65</td>\n",
       "      <td>3.682339</td>\n",
       "    </tr>\n",
       "    <tr>\n",
       "      <th>21</th>\n",
       "      <td>65</td>\n",
       "      <td>70</td>\n",
       "      <td>3.632915</td>\n",
       "    </tr>\n",
       "    <tr>\n",
       "      <th>22</th>\n",
       "      <td>70</td>\n",
       "      <td>75</td>\n",
       "      <td>3.683011</td>\n",
       "    </tr>\n",
       "    <tr>\n",
       "      <th>23</th>\n",
       "      <td>75</td>\n",
       "      <td>80</td>\n",
       "      <td>3.879561</td>\n",
       "    </tr>\n",
       "    <tr>\n",
       "      <th>24</th>\n",
       "      <td>80</td>\n",
       "      <td>85</td>\n",
       "      <td>3.905534</td>\n",
       "    </tr>\n",
       "    <tr>\n",
       "      <th>25</th>\n",
       "      <td>85</td>\n",
       "      <td>90</td>\n",
       "      <td>3.867218</td>\n",
       "    </tr>\n",
       "    <tr>\n",
       "      <th>26</th>\n",
       "      <td>90</td>\n",
       "      <td>95</td>\n",
       "      <td>3.596216</td>\n",
       "    </tr>\n",
       "    <tr>\n",
       "      <th>27</th>\n",
       "      <td>95</td>\n",
       "      <td>100</td>\n",
       "      <td>1.862113</td>\n",
       "    </tr>\n",
       "  </tbody>\n",
       "</table>\n",
       "</div>"
      ],
      "text/plain": [
       "    start_bin  end_bin    weight\n",
       "0           0        1  0.034970\n",
       "1           1        2  0.058515\n",
       "2           2        3  0.112957\n",
       "3           3        4  0.190385\n",
       "4           4        5  0.290618\n",
       "5           5        6  0.394501\n",
       "6           6        7  0.503767\n",
       "7           7        8  0.623328\n",
       "8           8        9  0.796345\n",
       "9           9       10  0.835133\n",
       "10         10       15  1.161105\n",
       "11         15       20  1.579901\n",
       "12         20       25  1.955131\n",
       "13         25       30  2.244599\n",
       "14         30       35  2.627623\n",
       "15         35       40  2.747834\n",
       "16         40       45  2.861299\n",
       "17         45       50  3.173611\n",
       "18         50       55  3.341666\n",
       "19         55       60  3.455500\n",
       "20         60       65  3.682339\n",
       "21         65       70  3.632915\n",
       "22         70       75  3.683011\n",
       "23         75       80  3.879561\n",
       "24         80       85  3.905534\n",
       "25         85       90  3.867218\n",
       "26         90       95  3.596216\n",
       "27         95      100  1.862113"
      ]
     },
     "execution_count": 48,
     "metadata": {},
     "output_type": "execute_result"
    }
   ],
   "source": []
  },
  {
   "cell_type": "code",
   "execution_count": 60,
   "id": "ca66c8c7",
   "metadata": {},
   "outputs": [
    {
     "data": {
      "text/plain": [
       "0          1\n",
       "1         18\n",
       "2         10\n",
       "3          1\n",
       "4          1\n",
       "          ..\n",
       "199992     2\n",
       "199993     3\n",
       "199995     0\n",
       "199997     0\n",
       "199999     1\n",
       "Name: w_bin, Length: 102328, dtype: int64"
      ]
     },
     "execution_count": 60,
     "metadata": {},
     "output_type": "execute_result"
    }
   ],
   "source": [
    "et_window_jet['w_bin']"
   ]
  },
  {
   "cell_type": "code",
   "execution_count": 52,
   "id": "367bf0ee",
   "metadata": {},
   "outputs": [
    {
     "data": {
      "text/html": [
       "<div>\n",
       "<style scoped>\n",
       "    .dataframe tbody tr th:only-of-type {\n",
       "        vertical-align: middle;\n",
       "    }\n",
       "\n",
       "    .dataframe tbody tr th {\n",
       "        vertical-align: top;\n",
       "    }\n",
       "\n",
       "    .dataframe thead th {\n",
       "        text-align: right;\n",
       "    }\n",
       "</style>\n",
       "<table border=\"1\" class=\"dataframe\">\n",
       "  <thead>\n",
       "    <tr style=\"text-align: right;\">\n",
       "      <th></th>\n",
       "      <th></th>\n",
       "      <th>et_cluster</th>\n",
       "      <th>in_sc</th>\n",
       "      <th>parton_pdg</th>\n",
       "      <th>et_window</th>\n",
       "      <th>w_bin</th>\n",
       "      <th>weight</th>\n",
       "    </tr>\n",
       "  </thead>\n",
       "  <tbody>\n",
       "    <tr>\n",
       "      <th rowspan=\"4\" valign=\"top\">0</th>\n",
       "      <th>0</th>\n",
       "      <td>1.146046</td>\n",
       "      <td>1</td>\n",
       "      <td>2.0</td>\n",
       "      <td>1.146046</td>\n",
       "      <td>1</td>\n",
       "      <td>0.058515</td>\n",
       "    </tr>\n",
       "    <tr>\n",
       "      <th>1</th>\n",
       "      <td>0.257063</td>\n",
       "      <td>0</td>\n",
       "      <td>2.0</td>\n",
       "      <td>0.000000</td>\n",
       "      <td>0</td>\n",
       "      <td>0.034970</td>\n",
       "    </tr>\n",
       "    <tr>\n",
       "      <th>2</th>\n",
       "      <td>0.227914</td>\n",
       "      <td>1</td>\n",
       "      <td>2.0</td>\n",
       "      <td>0.227914</td>\n",
       "      <td>0</td>\n",
       "      <td>0.034970</td>\n",
       "    </tr>\n",
       "    <tr>\n",
       "      <th>3</th>\n",
       "      <td>0.220428</td>\n",
       "      <td>0</td>\n",
       "      <td>2.0</td>\n",
       "      <td>0.000000</td>\n",
       "      <td>0</td>\n",
       "      <td>0.034970</td>\n",
       "    </tr>\n",
       "    <tr>\n",
       "      <th>1</th>\n",
       "      <th>0</th>\n",
       "      <td>15.198343</td>\n",
       "      <td>1</td>\n",
       "      <td>21.0</td>\n",
       "      <td>15.198343</td>\n",
       "      <td>11</td>\n",
       "      <td>1.579901</td>\n",
       "    </tr>\n",
       "    <tr>\n",
       "      <th>...</th>\n",
       "      <th>...</th>\n",
       "      <td>...</td>\n",
       "      <td>...</td>\n",
       "      <td>...</td>\n",
       "      <td>...</td>\n",
       "      <td>...</td>\n",
       "      <td>...</td>\n",
       "    </tr>\n",
       "    <tr>\n",
       "      <th rowspan=\"3\" valign=\"top\">199997</th>\n",
       "      <th>0</th>\n",
       "      <td>0.942884</td>\n",
       "      <td>1</td>\n",
       "      <td>-1.0</td>\n",
       "      <td>0.942884</td>\n",
       "      <td>0</td>\n",
       "      <td>0.034970</td>\n",
       "    </tr>\n",
       "    <tr>\n",
       "      <th>1</th>\n",
       "      <td>0.337245</td>\n",
       "      <td>0</td>\n",
       "      <td>-1.0</td>\n",
       "      <td>0.000000</td>\n",
       "      <td>0</td>\n",
       "      <td>0.034970</td>\n",
       "    </tr>\n",
       "    <tr>\n",
       "      <th>2</th>\n",
       "      <td>0.318488</td>\n",
       "      <td>0</td>\n",
       "      <td>-1.0</td>\n",
       "      <td>0.000000</td>\n",
       "      <td>0</td>\n",
       "      <td>0.034970</td>\n",
       "    </tr>\n",
       "    <tr>\n",
       "      <th>199998</th>\n",
       "      <th>1</th>\n",
       "      <td>5.222727</td>\n",
       "      <td>1</td>\n",
       "      <td>21.0</td>\n",
       "      <td>5.222727</td>\n",
       "      <td>5</td>\n",
       "      <td>0.394501</td>\n",
       "    </tr>\n",
       "    <tr>\n",
       "      <th>199999</th>\n",
       "      <th>0</th>\n",
       "      <td>1.596631</td>\n",
       "      <td>1</td>\n",
       "      <td>21.0</td>\n",
       "      <td>1.596631</td>\n",
       "      <td>1</td>\n",
       "      <td>0.058515</td>\n",
       "    </tr>\n",
       "  </tbody>\n",
       "</table>\n",
       "<p>777634 rows × 6 columns</p>\n",
       "</div>"
      ],
      "text/plain": [
       "          et_cluster  in_sc  parton_pdg  et_window  w_bin    weight\n",
       "0      0    1.146046      1         2.0   1.146046      1  0.058515\n",
       "       1    0.257063      0         2.0   0.000000      0  0.034970\n",
       "       2    0.227914      1         2.0   0.227914      0  0.034970\n",
       "       3    0.220428      0         2.0   0.000000      0  0.034970\n",
       "1      0   15.198343      1        21.0  15.198343     11  1.579901\n",
       "...              ...    ...         ...        ...    ...       ...\n",
       "199997 0    0.942884      1        -1.0   0.942884      0  0.034970\n",
       "       1    0.337245      0        -1.0   0.000000      0  0.034970\n",
       "       2    0.318488      0        -1.0   0.000000      0  0.034970\n",
       "199998 1    5.222727      1        21.0   5.222727      5  0.394501\n",
       "199999 0    1.596631      1        21.0   1.596631      1  0.058515\n",
       "\n",
       "[777634 rows x 6 columns]"
      ]
     },
     "execution_count": 52,
     "metadata": {},
     "output_type": "execute_result"
    }
   ],
   "source": [
    "df_jet.join(pd.DataFrame(ratio, columns=['weight']), on='w_bin')"
   ]
  },
  {
   "cell_type": "code",
   "execution_count": null,
   "id": "7c406207",
   "metadata": {},
   "outputs": [],
   "source": [
    "d"
   ]
  }
 ],
 "metadata": {
  "kernelspec": {
   "display_name": "Python 3",
   "language": "python",
   "name": "python3"
  },
  "language_info": {
   "codemirror_mode": {
    "name": "ipython",
    "version": 3
   },
   "file_extension": ".py",
   "mimetype": "text/x-python",
   "name": "python",
   "nbconvert_exporter": "python",
   "pygments_lexer": "ipython3",
   "version": "3.9.6"
  }
 },
 "nbformat": 4,
 "nbformat_minor": 5
}
